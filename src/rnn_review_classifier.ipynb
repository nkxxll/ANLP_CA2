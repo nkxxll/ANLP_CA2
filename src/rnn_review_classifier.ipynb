{
 "cells": [
  {
   "cell_type": "code",
   "execution_count": 1,
   "metadata": {},
   "outputs": [],
   "source": [
    "import sys\n",
    "sys.path.append(\"scripts\")\n",
    "from scripts.review_dataloader import SteamReviewDataset"
   ]
  },
  {
   "cell_type": "markdown",
   "metadata": {},
   "source": [
    "### Load dataset"
   ]
  },
  {
   "cell_type": "code",
   "execution_count": 2,
   "metadata": {},
   "outputs": [
    {
     "name": "stdout",
     "output_type": "stream",
     "text": [
      "Loaded 94,571 reviews\n",
      "('wallpaper engine allow user to create and use customisable live wallpaper for their desktop develop by wallpaper engine team it enhance desktop aesthetic with impressive customisation graphic and atmosphere the graphic capability be excellent support a wide range of format and creative possibility functionality and feature it offer robust functionality with extensive customisation option ease of use the interface be somewhat intuitive but have a learning curve that might deter less tech savvy user resource usage while generally efficient it can be resource intensive at time especially with complex animation affect system performance value for money the application be price reasonably offer good value give the vast feature set and customisation option overall rating wallpaper engine transforms desktops with vibrant graphic and extensive customisation despite some resource usage and complexity it be a strong choice for desktop <NULL>', True)\n",
      "(['i play the game since release and own it on multiple system it be a great relaxing game i have never be a fan of the combat but it have improve over time there be a level of make your own goal to get more out of it but there be a story and quest to get you go i never have the disappointment from the first release as i get it because it look cool and know nothing about it they do not charge for new content which put it right next to terraria for me per audacity ad astray interloper', 'i can not play my career anymore why', 'it too good to be free'], [True, False, True])\n"
     ]
    }
   ],
   "source": [
    "review_dl = SteamReviewDataset(\"../data/reviews_100k.csv.bz2\", shuffle=True)\n",
    "\n",
    "# Example\n",
    "print(review_dl.__getitem__(0))\n",
    "print(review_dl.__getitems__([1,2,3]))"
   ]
  }
 ],
 "metadata": {
  "kernelspec": {
   "display_name": "Python 3",
   "language": "python",
   "name": "python3"
  },
  "language_info": {
   "codemirror_mode": {
    "name": "ipython",
    "version": 3
   },
   "file_extension": ".py",
   "mimetype": "text/x-python",
   "name": "python",
   "nbconvert_exporter": "python",
   "pygments_lexer": "ipython3",
   "version": "3.12.8"
  }
 },
 "nbformat": 4,
 "nbformat_minor": 2
}
