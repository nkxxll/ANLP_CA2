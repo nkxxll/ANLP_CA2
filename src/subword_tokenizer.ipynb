{
 "cells": [
  {
   "cell_type": "markdown",
   "metadata": {},
   "source": [
    "# Subword Tokenization"
   ]
  },
  {
   "cell_type": "code",
   "execution_count": 1,
   "metadata": {},
   "outputs": [],
   "source": [
    "%load_ext autoreload\n",
    "%autoreload 2"
   ]
  },
  {
   "cell_type": "code",
   "execution_count": 2,
   "metadata": {},
   "outputs": [],
   "source": [
    "from collections import Counter\n",
    "\n",
    "import pandas as pd\n",
    "import sentencepiece as spm\n",
    "import matplotlib.pyplot as plt"
   ]
  },
  {
   "cell_type": "code",
   "execution_count": 3,
   "metadata": {},
   "outputs": [],
   "source": [
    "# Lade die CSV-Datei mit den Rezensionen\n",
    "df = pd.read_csv(\"../data/reviews_100k.csv.bz2\")\n",
    "model_type = \"unigram\""
   ]
  },
  {
   "cell_type": "markdown",
   "metadata": {},
   "source": [
    "Die Auswahl des `model_type` hängt von verschiedenen Faktoren ab:\n",
    "\n",
    "- **Unigram:**  \n",
    "  Dies ist eine gute Wahl, wenn du Subwörter erzeugen möchtest, die auf der Wahrscheinlichkeit basieren, mit der sie in den Trainingsdaten auftreten. Der **Unigram-Ansatz** ist besonders gut geeignet, wenn du mit längeren Texten und einer breiten Wortvielfalt arbeitest.  \n",
    "  - **Vorteil:** Flexibel und gut bei der Modellierung von seltenen Wörtern.\n",
    "  - **Nachteil:** Kann in einigen Fällen schwieriger zu interpretieren sein.\n",
    "\n",
    "- **BPE (Byte Pair Encoding):**  \n",
    "  BPE eignet sich gut für die Tokenisierung von Texten mit einer klaren Struktur, in denen häufig vorkommende Wortbestandteile aufgeteilt werden. Wenn du eine hohe Anzahl an kurzen, häufigen Wörtern hast (z. B. in der Umgangssprache), ist BPE effizient.\n",
    "  - **Vorteil:** Gut für sehr häufig vorkommende Wortteile.\n",
    "  - **Nachteil:** Kann dazu führen, dass sehr seltene Wörter zusammengebunden werden."
   ]
  },
  {
   "cell_type": "code",
   "execution_count": 4,
   "metadata": {},
   "outputs": [
    {
     "name": "stderr",
     "output_type": "stream",
     "text": [
      "sentencepiece_trainer.cc(78) LOG(INFO) Starts training with : \n",
      "trainer_spec {\n",
      "  input: ../tmp/reviews.txt\n",
      "  input_format: \n",
      "  model_prefix: ../data/reviews_unigram\n",
      "  model_type: UNIGRAM\n",
      "  vocab_size: 8000\n",
      "  self_test_sample_size: 0\n",
      "  character_coverage: 0.9995\n",
      "  input_sentence_size: 0\n",
      "  shuffle_input_sentence: 1\n",
      "  seed_sentencepiece_size: 1000000\n",
      "  shrinking_factor: 0.75\n",
      "  max_sentence_length: 4000\n",
      "  num_threads: 16\n",
      "  num_sub_iterations: 2\n",
      "  max_sentencepiece_length: 16\n",
      "  split_by_unicode_script: 1\n",
      "  split_by_number: 1\n",
      "  split_by_whitespace: 1\n",
      "  split_digits: 0\n",
      "  pretokenization_delimiter: \n",
      "  treat_whitespace_as_suffix: 0\n",
      "  allow_whitespace_only_pieces: 0\n",
      "  required_chars: \n",
      "  byte_fallback: 0\n",
      "  vocabulary_output_piece_score: 1\n",
      "  train_extremely_large_corpus: 0\n",
      "  seed_sentencepieces_file: \n",
      "  hard_vocab_limit: 1\n",
      "  use_all_vocab: 0\n",
      "  unk_id: 1\n",
      "  bos_id: 2\n",
      "  eos_id: 3\n",
      "  pad_id: 0\n",
      "  unk_piece: <unk>\n",
      "  bos_piece: <s>\n",
      "  eos_piece: </s>\n",
      "  pad_piece: <pad>\n",
      "  unk_surface:  ⁇ \n",
      "  enable_differential_privacy: 0\n",
      "  differential_privacy_noise_level: 0\n",
      "  differential_privacy_clipping_threshold: 0\n",
      "}\n",
      "normalizer_spec {\n",
      "  name: nmt_nfkc\n",
      "  add_dummy_prefix: 1\n",
      "  remove_extra_whitespaces: 1\n",
      "  escape_whitespaces: 1\n",
      "  normalization_rule_tsv: \n",
      "}\n",
      "denormalizer_spec {}\n",
      "trainer_interface.cc(353) LOG(INFO) SentenceIterator is not specified. Using MultiFileSentenceIterator.\n",
      "trainer_interface.cc(185) LOG(INFO) Loading corpus: ../tmp/reviews.txt\n",
      "trainer_interface.cc(380) LOG(WARNING) Found too long line (4711 > 4000).\n",
      "trainer_interface.cc(382) LOG(WARNING) Too long lines are skipped in the training.\n",
      "trainer_interface.cc(383) LOG(WARNING) The maximum length can be changed with --max_sentence_length=<size> flag.\n",
      "trainer_interface.cc(409) LOG(INFO) Loaded all 93954 sentences\n",
      "trainer_interface.cc(416) LOG(INFO) Skipped 617 too long sentences.\n",
      "trainer_interface.cc(425) LOG(INFO) Adding meta_piece: <pad>\n",
      "trainer_interface.cc(425) LOG(INFO) Adding meta_piece: <unk>\n",
      "trainer_interface.cc(425) LOG(INFO) Adding meta_piece: <s>\n",
      "trainer_interface.cc(425) LOG(INFO) Adding meta_piece: </s>\n",
      "trainer_interface.cc(430) LOG(INFO) Normalizing sentences...\n",
      "trainer_interface.cc(539) LOG(INFO) all chars count=36212255\n",
      "trainer_interface.cc(550) LOG(INFO) Done: 99.993% characters are covered.\n",
      "trainer_interface.cc(560) LOG(INFO) Alphabet size=32\n",
      "trainer_interface.cc(561) LOG(INFO) Final character coverage=0.99993\n",
      "trainer_interface.cc(592) LOG(INFO) Done! preprocessed 93954 sentences.\n",
      "unigram_model_trainer.cc(265) LOG(INFO) Making suffix array...\n",
      "unigram_model_trainer.cc(269) LOG(INFO) Extracting frequent sub strings... node_num=19255849\n",
      "unigram_model_trainer.cc(312) LOG(INFO) Initialized 54605 seed sentencepieces\n",
      "trainer_interface.cc(598) LOG(INFO) Tokenizing input sentences with whitespace: 93954\n",
      "trainer_interface.cc(609) LOG(INFO) Done! 21916\n",
      "unigram_model_trainer.cc(602) LOG(INFO) Using 21916 sentences for EM training\n",
      "unigram_model_trainer.cc(618) LOG(INFO) EM sub_iter=0 size=26459 obj=8.47311 num_tokens=36837 num_tokens/piece=1.39223\n",
      "unigram_model_trainer.cc(618) LOG(INFO) EM sub_iter=1 size=17440 obj=6.63822 num_tokens=36131 num_tokens/piece=2.07173\n",
      "unigram_model_trainer.cc(618) LOG(INFO) EM sub_iter=0 size=13079 obj=6.57466 num_tokens=37332 num_tokens/piece=2.85435\n",
      "unigram_model_trainer.cc(618) LOG(INFO) EM sub_iter=1 size=13076 obj=6.56891 num_tokens=37332 num_tokens/piece=2.855\n",
      "unigram_model_trainer.cc(618) LOG(INFO) EM sub_iter=0 size=9807 obj=6.59368 num_tokens=42553 num_tokens/piece=4.33904\n",
      "unigram_model_trainer.cc(618) LOG(INFO) EM sub_iter=1 size=9807 obj=6.58793 num_tokens=42548 num_tokens/piece=4.33853\n",
      "unigram_model_trainer.cc(618) LOG(INFO) EM sub_iter=0 size=8800 obj=6.60239 num_tokens=44535 num_tokens/piece=5.0608\n",
      "unigram_model_trainer.cc(618) LOG(INFO) EM sub_iter=1 size=8800 obj=6.59973 num_tokens=44532 num_tokens/piece=5.06045\n",
      "trainer_interface.cc(687) LOG(INFO) Saving model: ../data/reviews_unigram.model\n",
      "trainer_interface.cc(699) LOG(INFO) Saving vocabs: ../data/reviews_unigram.vocab\n"
     ]
    }
   ],
   "source": [
    "# Extrahiere alle Rezensionen als eine einzige Textdatei\n",
    "with open(\"../tmp/reviews.txt\", \"w\") as f:\n",
    "    for review in df['review']:\n",
    "        f.write(review + '\\n')\n",
    "\n",
    "spm.SentencePieceTrainer.Train(\n",
    "    input='../tmp/reviews.txt',  # Textdatei mit allen Rezensionen\n",
    "    model_prefix=f'../data/reviews_{model_type}',  # Präfix für die erzeugten Dateien\n",
    "    vocab_size=8000, # Größe des Vokabulars\n",
    "    model_type=model_type,  # Tokenisierungsmodell\n",
    "    max_sentence_length=4000,  # Maximale Satzlänge (reviews sind 4 bis 7600 Zeichen lang)\n",
    "    pad_id=0,  # Padding-Token explizit setzen\n",
    "    unk_id=1,  # Unbekanntes Token setzen\n",
    "    bos_id=2,  # Anfang des Satzes\n",
    "    eos_id=3,  # Ende des Satzes\n",
    ")\n",
    "\n",
    "# Nach dem Training werden zwei Dateien erstellt:\n",
    "# - reviews_{model_type}.model (Tokenisierungsmodell)\n",
    "# - reviews_{model_type}.vocab (Vokabular)"
   ]
  },
  {
   "cell_type": "code",
   "execution_count": 5,
   "metadata": {},
   "outputs": [
    {
     "name": "stdout",
     "output_type": "stream",
     "text": [
      "Size of the vocabulary: 8000\n",
      "Padding token ID: 0\n"
     ]
    }
   ],
   "source": [
    "sp = spm.SentencePieceProcessor(model_file=f'../data/reviews_{model_type}.model')\n",
    "\n",
    "print(f\"Size of the vocabulary: {sp.get_piece_size()}\")\n",
    "print(f\"Padding token ID: {sp.pad_id()}\")"
   ]
  },
  {
   "cell_type": "code",
   "execution_count": 9,
   "metadata": {},
   "outputs": [
    {
     "name": "stdout",
     "output_type": "stream",
     "text": [
      "Original Review:\n",
      "the game is great and a lot of fun!\n",
      "\n",
      "Tokenized Form:\n",
      "['▁the', '▁game', '▁i', 's', '▁great', '▁and', '▁a', '▁lot', '▁of', '▁fun', '!']\n",
      "\n",
      "Token ID pairs:\n",
      "▁the -> 5\n",
      "▁game -> 7\n",
      "▁i -> 10\n",
      "s -> 75\n",
      "▁great -> 64\n",
      "▁and -> 6\n",
      "▁a -> 9\n",
      "▁lot -> 90\n",
      "▁of -> 12\n",
      "▁fun -> 34\n",
      "! -> 1\n"
     ]
    }
   ],
   "source": [
    "# Beispiel-Rezension\n",
    "review = \"The Game is great and a lot of fun!\".lower()\n",
    "\n",
    "# Tokenisierung der Rezension\n",
    "tokens = sp.encode(review, out_type=str)\n",
    "\n",
    "# Ausgabe der Original-Rezension und der tokenisierten Form\n",
    "print(\"Original Review:\")\n",
    "print(review)\n",
    "\n",
    "print(\"\\nTokenized Form:\")\n",
    "print(tokens)\n",
    "\n",
    "# print tokens with their corresponding IDs \n",
    "print(\"\\nToken ID pairs:\")\n",
    "for token in tokens:\n",
    "    print(f\"{token} -> {sp.piece_to_id(token)}\")"
   ]
  },
  {
   "cell_type": "code",
   "execution_count": 8,
   "metadata": {},
   "outputs": [
    {
     "data": {
      "image/png": "[encoded data removed]",
      "text/plain": [
       "<Figure size 1000x500 with 1 Axes>"
      ]
     },
     "metadata": {},
     "output_type": "display_data"
    }
   ],
   "source": [
    "# Zähle die Subwörter in alllen Rezensionen\n",
    "all_tokens = []\n",
    "\n",
    "for review in df['review']:\n",
    "    tokens = sp.encode(review, out_type=str)\n",
    "    all_tokens.extend(tokens)  # Alle Tokens in der Liste speichern\n",
    "\n",
    "# Zähle die Häufigkeit der Subwörter\n",
    "word_counts = Counter(all_tokens)\n",
    "\n",
    "top_n = 40\n",
    "top_words = word_counts.most_common(top_n)\n",
    "\n",
    "# Visualisierung der Top-N Subwörter\n",
    "top_words_dict = dict(top_words)\n",
    "\n",
    "plt.figure(figsize=(10, 5))\n",
    "plt.bar(top_words_dict.keys(), top_words_dict.values())\n",
    "plt.xticks(rotation=90)\n",
    "plt.title(f\"Top {top_n} Subwords in all reviews\")\n",
    "plt.xlabel(\"Subwords\")\n",
    "plt.ylabel(\"Frequency\")\n",
    "plt.show()\n"
   ]
  }
 ],
 "metadata": {
  "kernelspec": {
   "display_name": ".venv",
   "language": "python",
   "name": "python3"
  },
  "language_info": {
   "codemirror_mode": {
    "name": "ipython",
    "version": 3
   },
   "file_extension": ".py",
   "mimetype": "text/x-python",
   "name": "python",
   "nbconvert_exporter": "python",
   "pygments_lexer": "ipython3",
   "version": "3.12.3"
  }
 },
 "nbformat": 4,
 "nbformat_minor": 2
}
