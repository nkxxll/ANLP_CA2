{
 "cells": [
  {
   "cell_type": "markdown",
   "metadata": {},
   "source": [
    "# GRU Classifier"
   ]
  },
  {
   "cell_type": "code",
   "execution_count": 1,
   "metadata": {},
   "outputs": [],
   "source": [
    "%load_ext autoreload\n",
    "%autoreload 2"
   ]
  },
  {
   "cell_type": "code",
   "execution_count": 2,
   "metadata": {},
   "outputs": [],
   "source": [
    "import sys\n",
    "import time\n",
    "import random\n",
    "import json\n",
    "import numpy as np\n",
    "import pandas as pd\n",
    "import torch\n",
    "import torch.nn as nn\n",
    "import torch.optim as optim\n",
    "from torch.utils.data import DataLoader\n",
    "import sentencepiece as spm\n",
    "from sklearn.model_selection import train_test_split\n",
    "from sklearn.metrics import (\n",
    "    accuracy_score,\n",
    "    precision_score,\n",
    "    recall_score,\n",
    "    f1_score,\n",
    "    confusion_matrix,\n",
    ")\n",
    "from torcheval.metrics.functional import (\n",
    "    multilabel_accuracy,\n",
    "    multilabel_precision_recall_curve,\n",
    ")\n",
    "\n",
    "from tqdm import tqdm\n",
    "import matplotlib.pyplot as plt\n",
    "import seaborn as sns\n",
    "\n",
    "sys.path.append(\"scripts\")\n",
    "from scripts.steam_review_dataset import SteamReviewDataset\n",
    "from scripts.annotations import update_df_review_labels"
   ]
  },
  {
   "cell_type": "code",
   "execution_count": 3,
   "metadata": {},
   "outputs": [
    {
     "name": "stdout",
     "output_type": "stream",
     "text": [
      "Using cuda device\n"
     ]
    }
   ],
   "source": [
    "device = torch.device(\n",
    "    \"cuda\"\n",
    "    if torch.cuda.is_available()\n",
    "    else \"mps\" if torch.backends.mps.is_available() else \"cpu\"\n",
    ")\n",
    "print(f\"Using {device} device\")"
   ]
  },
  {
   "cell_type": "code",
   "execution_count": 4,
   "metadata": {},
   "outputs": [],
   "source": [
    "seed = 1234\n",
    "\n",
    "random.seed(seed)\n",
    "np.random.seed(seed)\n",
    "torch.manual_seed(seed)\n",
    "torch.cuda.manual_seed_all(seed)\n",
    "torch.backends.cudnn.deterministic = True"
   ]
  },
  {
   "cell_type": "code",
   "execution_count": 5,
   "metadata": {},
   "outputs": [
    {
     "name": "stdout",
     "output_type": "stream",
     "text": [
      "Found 12 topics: ['gamemode', 'story', 'support', 'hardware_requirements', 'online_play', 'gameplay', 'bugs', 'seasonal_content', 'price', 'updates', 'visuals', 'sound']\n",
      "\n",
      "<class 'pandas.core.frame.DataFrame'>\n",
      "RangeIndex: 218 entries, 0 to 217\n",
      "Data columns (total 18 columns):\n",
      " #   Column                 Non-Null Count  Dtype  \n",
      "---  ------                 --------------  -----  \n",
      " 0   review_id              218 non-null    int64  \n",
      " 1   review                 218 non-null    object \n",
      " 2   voted_up               218 non-null    bool   \n",
      " 3   votes_up               218 non-null    int64  \n",
      " 4   weighted_vote_score    218 non-null    float64\n",
      " 5   app_id                 218 non-null    int64  \n",
      " 6   gamemode               218 non-null    float64\n",
      " 7   story                  218 non-null    float64\n",
      " 8   support                218 non-null    float64\n",
      " 9   hardware_requirements  218 non-null    float64\n",
      " 10  online_play            218 non-null    float64\n",
      " 11  gameplay               218 non-null    float64\n",
      " 12  bugs                   218 non-null    float64\n",
      " 13  seasonal_content       218 non-null    float64\n",
      " 14  price                  218 non-null    float64\n",
      " 15  updates                218 non-null    float64\n",
      " 16  visuals                218 non-null    float64\n",
      " 17  sound                  218 non-null    float64\n",
      "dtypes: bool(1), float64(13), int64(3), object(1)\n",
      "memory usage: 29.3+ KB\n",
      "None\n",
      "\n",
      "Topic distribution:\n",
      "gamemode                  10.0\n",
      "story                      2.0\n",
      "support                  125.0\n",
      "hardware_requirements      5.0\n",
      "online_play               62.0\n",
      "gameplay                  66.0\n",
      "bugs                      14.0\n",
      "seasonal_content          39.0\n",
      "price                     12.0\n",
      "updates                   37.0\n",
      "visuals                   12.0\n",
      "sound                      9.0\n",
      "dtype: float64\n"
     ]
    }
   ],
   "source": [
    "# Lade die Daten\n",
    "df = pd.read_csv(\"../data/reviews_100k_cleaned_new.csv.bz2\")\n",
    "\n",
    "# Lade labels\n",
    "llm_notation_file = (\n",
    "    \"./scripts/results/results-v2-2025-02-03T19_58_54.749839-nall-llama3.2.json\"\n",
    ")\n",
    "\n",
    "with open(llm_notation_file, \"r\") as fi:\n",
    "    review_id_with_topics = {\n",
    "        int(k): v for k, v in json.load(fi).items()\n",
    "    }  # str keys to int\n",
    "\n",
    "df, topics = update_df_review_labels(df, review_id_with_topics, dropna=True)\n",
    "\n",
    "print(f\"Found {len(topics)} topics: {topics}\\n\")\n",
    "print(df.info())\n",
    "print(\"\\nTopic distribution:\")\n",
    "print(df.iloc[:, -12:].sum())"
   ]
  },
  {
   "cell_type": "code",
   "execution_count": 6,
   "metadata": {},
   "outputs": [
    {
     "name": "stdout",
     "output_type": "stream",
     "text": [
      "Original size: 218\n",
      "Train size: 130\n",
      "Validation size: 44\n",
      "Test size: 44\n"
     ]
    }
   ],
   "source": [
    "# Aufteilen in Train+Validation und Test (80/20 Split)\n",
    "train_val_df, test_df = train_test_split(\n",
    "    df,\n",
    "    test_size=0.2,\n",
    "    random_state=42,  # TODO stratify causes issues with multilabel targets\n",
    ")\n",
    "\n",
    "# Aufteilen von Train+Validation in Training und Validation (75/25 von Train+Val)\n",
    "train_df, val_df = train_test_split(train_val_df, test_size=0.25, random_state=42)\n",
    "\n",
    "# Überprüfe die Größe der Splits\n",
    "print(f\"Original size: {len(df)}\")\n",
    "print(f\"Train size: {len(train_df)}\")\n",
    "print(f\"Validation size: {len(val_df)}\")\n",
    "print(f\"Test size: {len(test_df)}\")"
   ]
  },
  {
   "cell_type": "code",
   "execution_count": 7,
   "metadata": {},
   "outputs": [
    {
     "name": "stdout",
     "output_type": "stream",
     "text": [
      "Tokens shape: torch.Size([4, 200]), Labels shape: torch.Size([4, 12])\n",
      "(tensor([  10,   15,   20,    9,   94,   12,  580,    8,    6, 1392,   12,  113,\n",
      "          15,   38,   50,   27, 2438,  163, 2160,    6,   38,   50, 1451,   27,\n",
      "          75,   27,   14,    8,   15,  286,  158,   11,    6,   53,   20,   21,\n",
      "         490,   32,    5,    9,  691,   12,    9, 2065,    0,    0,    0,    0,\n",
      "           0,    0,    0,    0,    0,    0,    0,    0,    0,    0,    0,    0,\n",
      "           0,    0,    0,    0,    0,    0,    0,    0,    0,    0,    0,    0,\n",
      "           0,    0,    0,    0,    0,    0,    0,    0,    0,    0,    0,    0,\n",
      "           0,    0,    0,    0,    0,    0,    0,    0,    0,    0,    0,    0,\n",
      "           0,    0,    0,    0,    0,    0,    0,    0,    0,    0,    0,    0,\n",
      "           0,    0,    0,    0,    0,    0,    0,    0,    0,    0,    0,    0,\n",
      "           0,    0,    0,    0,    0,    0,    0,    0,    0,    0,    0,    0,\n",
      "           0,    0,    0,    0,    0,    0,    0,    0,    0,    0,    0,    0,\n",
      "           0,    0,    0,    0,    0,    0,    0,    0,    0,    0,    0,    0,\n",
      "           0,    0,    0,    0,    0,    0,    0,    0,    0,    0,    0,    0,\n",
      "           0,    0,    0,    0,    0,    0,    0,    0,    0,    0,    0,    0,\n",
      "           0,    0,    0,    0,    0,    0,    0,    0,    0,    0,    0,    0,\n",
      "           0,    0,    0,    0,    0,    0,    0,    0]), tensor([0., 0., 1., 0., 1., 0., 0., 0., 0., 0., 0., 0.]))\n"
     ]
    }
   ],
   "source": [
    "# Erstelle Dataset-Objekte\n",
    "tokenizer = spm.SentencePieceProcessor(model_file=\"../data/reviews_unigram.model\")\n",
    "max_len = 200  # 91% der Reviews haben weniger als 200 Tokens\n",
    "batch_size = 4\n",
    "\n",
    "train_dataset = SteamReviewDataset(\n",
    "    data=train_df,\n",
    "    tokenizer=tokenizer,\n",
    "    max_len=max_len,\n",
    "    topic_mode=True,\n",
    "    topics=topics,\n",
    ")\n",
    "val_dataset = SteamReviewDataset(\n",
    "    data=val_df,\n",
    "    tokenizer=tokenizer,\n",
    "    max_len=max_len,\n",
    "    topic_mode=True,\n",
    "    topics=topics,\n",
    ")\n",
    "test_dataset = SteamReviewDataset(\n",
    "    data=test_df,\n",
    "    tokenizer=tokenizer,\n",
    "    max_len=max_len,\n",
    "    topic_mode=True,\n",
    "    topics=topics,\n",
    ")\n",
    "\n",
    "# Erstelle DataLoader für jeden Split\n",
    "train_loader = DataLoader(train_dataset, batch_size=batch_size, shuffle=True)\n",
    "val_loader = DataLoader(val_dataset, batch_size=batch_size, shuffle=False)\n",
    "test_loader = DataLoader(test_dataset, batch_size=batch_size, shuffle=False)\n",
    "\n",
    "# Batch Shape\n",
    "for tokens, topics_onehot in train_loader:\n",
    "    print(f\"Tokens shape: {tokens.shape}, Labels shape: {topics_onehot.shape}\")\n",
    "    break\n",
    "\n",
    "print(train_dataset[0])"
   ]
  },
  {
   "cell_type": "code",
   "execution_count": 8,
   "metadata": {},
   "outputs": [],
   "source": [
    "class GRUClassifier(nn.Module):\n",
    "    def __init__(\n",
    "        self,\n",
    "        vocab_size: int,\n",
    "        embedding_dim: int,\n",
    "        gru_layers: int,\n",
    "        hidden_dim: int,\n",
    "        dropout: float,\n",
    "        output_dim: int,\n",
    "        pad_idx: int,\n",
    "    ):\n",
    "        super(GRUClassifier, self).__init__()\n",
    "        self.embedding = nn.Embedding(\n",
    "            num_embeddings=vocab_size, embedding_dim=embedding_dim, padding_idx=pad_idx\n",
    "        )\n",
    "        self.gru = nn.GRU(\n",
    "            input_size=embedding_dim,\n",
    "            num_layers=gru_layers,\n",
    "            hidden_size=hidden_dim,\n",
    "            dropout=dropout if gru_layers > 1 else 0,\n",
    "            batch_first=True,\n",
    "        )\n",
    "        self.fc = nn.Linear(hidden_dim, output_dim)\n",
    "\n",
    "    def forward(self, x):\n",
    "        # x: (batch_size, seq_length)\n",
    "\n",
    "        embedded = self.embedding(x)  # (batch_size, seq_length, embedding_dim)\n",
    "\n",
    "        gru_out, _ = self.gru(embedded)  # (batch_size, seq_length, hidden_dim)\n",
    "\n",
    "        last_hidden_state = gru_out[:, -1, :]  # (batch_size, hidden_dim)\n",
    "\n",
    "        output = self.fc(last_hidden_state)  # (batch_size, output_dim)\n",
    "\n",
    "        return output"
   ]
  },
  {
   "cell_type": "code",
   "execution_count": 9,
   "metadata": {},
   "outputs": [],
   "source": [
    "from sklearn.metrics import jaccard_score\n",
    "\n",
    "\n",
    "def train_model(\n",
    "    model: GRUClassifier,\n",
    "    train_loader: DataLoader,\n",
    "    val_loader: DataLoader,\n",
    "    epochs: int,\n",
    "    lr: float,\n",
    "    device=torch.device(\"cpu\"),\n",
    "):\n",
    "    # Loss und Optimizer definieren\n",
    "    criterion = nn.BCEWithLogitsLoss()\n",
    "    optimizer = optim.AdamW(model.parameters(), lr=lr, weight_decay=1e-4, fused=False)\n",
    "    scheduler = optim.lr_scheduler.ReduceLROnPlateau(\n",
    "        optimizer, mode=\"min\", factor=0.1, patience=1\n",
    "    )\n",
    "\n",
    "    model.to(device)\n",
    "\n",
    "    print(f\"Start training on device '{device}'\")\n",
    "\n",
    "    # Early Stopping Parameter\n",
    "    patience = 10\n",
    "    patience_counter = 0\n",
    "    best_val_accuracy = 0.0\n",
    "    best_model_state = None\n",
    "    last_epoch = 0\n",
    "\n",
    "    # Listen für Visualisierung\n",
    "    train_losses, val_losses = [], []\n",
    "    train_accuracies, val_accuracies = [], []\n",
    "\n",
    "    # Training und Validation Loop\n",
    "    for epoch in range(epochs):\n",
    "        model.train()\n",
    "        running_loss = 0.0\n",
    "        train_labels = []\n",
    "        train_preds = []\n",
    "\n",
    "        train_progress = tqdm(\n",
    "            train_loader, desc=f\"Epoch [{epoch+1}/{epochs}]\", ncols=100\n",
    "        )\n",
    "\n",
    "        epoch_start_time = time.time()  # Startzeit für die Epoche\n",
    "\n",
    "        # Trainingsloop\n",
    "        for batch in train_progress:\n",
    "            tokens, topics_onehot = batch\n",
    "\n",
    "            tokens, topics_onehot = tokens.to(device), topics_onehot.to(device)\n",
    "\n",
    "            # Forward Pass\n",
    "            optimizer.zero_grad()\n",
    "            outputs = model(tokens)\n",
    "\n",
    "            loss = criterion(outputs, topics_onehot)\n",
    "\n",
    "            # Backward Pass und Optimierung\n",
    "            loss.backward()\n",
    "            nn.utils.clip_grad_norm_(model.parameters(), max_norm=1.0)\n",
    "            optimizer.step()\n",
    "\n",
    "            running_loss += loss.item()\n",
    "\n",
    "            # Berechne Predictions und füge sie zur Liste hinzu\n",
    "            probabilities = torch.sigmoid(outputs)\n",
    "            threshold = 0.5\n",
    "            train_preds += (probabilities >= threshold).cpu().int().numpy().tolist()\n",
    "            train_labels += topics_onehot.cpu().int().numpy().tolist()\n",
    "\n",
    "            # Update TQDM mit dem aktuellen Loss\n",
    "            train_progress.set_postfix(\n",
    "                loss=f\"{running_loss / (train_progress.n + 1):.3f}\"\n",
    "            )\n",
    "\n",
    "        # Berechne Trainings-Accuracy\n",
    "        print(\n",
    "            \"Jac Samples:\",\n",
    "            jaccard_score(\n",
    "                train_labels, train_preds, average=\"samples\", zero_division=1\n",
    "            ),\n",
    "        )\n",
    "        print(\"Jac Micro:\", jaccard_score(train_labels, train_preds, average=\"micro\"))\n",
    "        print(\"Jac Macro:\", jaccard_score(train_labels, train_preds, average=\"macro\"))\n",
    "        print(\n",
    "            f\"Train Accuracy:\",\n",
    "            multilabel_accuracy(\n",
    "                torch.tensor(train_preds),\n",
    "                torch.tensor(train_labels),\n",
    "                criteria=\"hamming\",\n",
    "            ).item(),\n",
    "        )\n",
    "\n",
    "        train_accuracy = jaccard_score(\n",
    "            train_labels, train_preds, average=\"samples\", zero_division=1\n",
    "        )\n",
    "\n",
    "        train_losses.append(running_loss / len(train_loader))\n",
    "        train_accuracies.append(train_accuracy)\n",
    "\n",
    "        # Validierung\n",
    "        model.eval()\n",
    "        val_loss = 0.0\n",
    "        val_labels = []\n",
    "        val_preds = []\n",
    "\n",
    "        with torch.no_grad():\n",
    "            for batch in val_loader:\n",
    "                tokens, topics_onehot = batch\n",
    "                tokens, topics_onehot = tokens.to(device), topics_onehot.to(device)\n",
    "\n",
    "                outputs = model(tokens)\n",
    "                loss = criterion(outputs.squeeze(), topics_onehot)\n",
    "                val_loss += loss.item()\n",
    "\n",
    "                probabilities = torch.sigmoid(outputs)\n",
    "                threshold = 0.5\n",
    "                val_preds += (probabilities >= threshold).cpu().int().numpy().tolist()\n",
    "                val_labels += topics_onehot.cpu().int().numpy().tolist()\n",
    "\n",
    "        scheduler.step(val_loss)  # Scheduler mit Validierungs-Loss aufrufen\n",
    "\n",
    "        # Berechne Validierungs-Accuracy\n",
    "        val_accuracy = jaccard_score(\n",
    "            val_labels, val_preds, average=\"samples\", zero_division=1\n",
    "        )\n",
    "\n",
    "        val_losses.append(val_loss / len(val_loader))\n",
    "        val_accuracies.append(val_accuracy)\n",
    "\n",
    "        epoch_end_time = time.time()\n",
    "        epoch_duration = epoch_end_time - epoch_start_time\n",
    "        mins, secs = divmod(epoch_duration, 60)\n",
    "\n",
    "        print(\n",
    "            \"├ \"\n",
    "            f\"Train Loss: {running_loss/len(train_loader):.4f}, \"\n",
    "            f\"Train Accuracy: {train_accuracy:.4f}, \"\n",
    "            f\"Validation Loss: {val_loss/len(val_loader):.4f}, \"\n",
    "            f\"Validation Accuracy: {val_accuracy:.4f}, \"\n",
    "            f\"Time: {int(mins):2}:{secs:.2f}m\"\n",
    "        )\n",
    "\n",
    "        # Early Stopping Überprüfung\n",
    "        if val_accuracy > best_val_accuracy:\n",
    "            print(\n",
    "                f\"└ Validation accuracy improved: {best_val_accuracy:.4f} → {val_accuracy:.4f}\"\n",
    "            )\n",
    "            best_val_accuracy = val_accuracy\n",
    "            patience_counter = 0\n",
    "            best_model_state = model.state_dict()  # Speichere das beste Modell\n",
    "            last_epoch = epoch\n",
    "        else:\n",
    "            patience_counter += 1\n",
    "            print(\n",
    "                f\"└ No improvement in validation accuracy. \"\n",
    "                f\"Patience counter: {patience_counter}/{patience}. Using LR: {scheduler.get_last_lr()[0]:.1e}\",\n",
    "            )\n",
    "            # Überprüfe, ob Early Stopping ausgelöst werden soll\n",
    "            if patience_counter >= patience:\n",
    "                print(\n",
    "                    \"Early stopping triggered! \"\n",
    "                    f\"Best Validation Accuracy: {best_val_accuracy:.2f}, on epoch {last_epoch+1}\"\n",
    "                )\n",
    "                break\n",
    "\n",
    "    # Lade das beste Modell zurück, falls Early Stopping ausgelöst wurde\n",
    "    if best_model_state is not None:\n",
    "        model.load_state_dict(best_model_state)\n",
    "\n",
    "    print(\n",
    "        f\"Finished Training: Best Validation Accuracy: {best_val_accuracy:.2f}, on epoch {last_epoch+1}\"\n",
    "    )\n",
    "\n",
    "    return model, train_losses, val_losses, train_accuracies, val_accuracies"
   ]
  },
  {
   "cell_type": "code",
   "execution_count": 10,
   "metadata": {},
   "outputs": [
    {
     "name": "stdout",
     "output_type": "stream",
     "text": [
      "GRUClassifier(\n",
      "  (embedding): Embedding(4000, 512, padding_idx=0)\n",
      "  (gru): GRU(512, 1024, num_layers=2, batch_first=True, dropout=0.5)\n",
      "  (fc): Linear(in_features=1024, out_features=12, bias=True)\n",
      ")\n"
     ]
    }
   ],
   "source": [
    "# Lade den Tokenizer, um `vocab_size` und `pad_id` zu erhalten\n",
    "tokenizer = spm.SentencePieceProcessor(model_file=\"../data/reviews_unigram.model\")\n",
    "vocab_size = tokenizer.get_piece_size()\n",
    "pad_idx = tokenizer.pad_id()\n",
    "\n",
    "# Modellparameter\n",
    "embedding_dim = 512\n",
    "gru_layers = 2\n",
    "hidden_dim = 1024\n",
    "output_dim = len(topics)\n",
    "dropout = 0.5\n",
    "\n",
    "# Initialisiere das GRU-Modell\n",
    "model = GRUClassifier(\n",
    "    vocab_size=vocab_size,\n",
    "    embedding_dim=embedding_dim,\n",
    "    gru_layers=gru_layers,\n",
    "    hidden_dim=hidden_dim,\n",
    "    dropout=dropout,\n",
    "    output_dim=output_dim,\n",
    "    pad_idx=pad_idx,\n",
    ")\n",
    "print(model)"
   ]
  },
  {
   "cell_type": "code",
   "execution_count": 11,
   "metadata": {},
   "outputs": [
    {
     "name": "stdout",
     "output_type": "stream",
     "text": [
      "Start training on device 'cuda'\n"
     ]
    },
    {
     "name": "stderr",
     "output_type": "stream",
     "text": [
      "Epoch [1/100]: 100%|████████████████████████████████████| 33/33 [00:01<00:00, 20.39it/s, loss=0.411]\n"
     ]
    },
    {
     "name": "stdout",
     "output_type": "stream",
     "text": [
      "Jac Samples: 0.2806593406593406\n",
      "Jac Micro: 0.2113564668769716\n",
      "Jac Macro: 0.06583828812089682\n",
      "Train Accuracy: 0.8397436141967773\n",
      "├ Train Loss: 0.3984, Train Accuracy: 0.2807, Validation Loss: 0.4510, Validation Accuracy: 0.2564, Time:  0:1.85m\n",
      "└ Validation accuracy improved: 0.0000 → 0.2564\n"
     ]
    },
    {
     "name": "stderr",
     "output_type": "stream",
     "text": [
      "Epoch [2/100]: 100%|████████████████████████████████████| 33/33 [00:01<00:00, 24.58it/s, loss=0.385]\n"
     ]
    },
    {
     "name": "stdout",
     "output_type": "stream",
     "text": [
      "Jac Samples: 0.3405128205128205\n",
      "Jac Micro: 0.2987012987012987\n",
      "Jac Macro: 0.08282749239106997\n",
      "Train Accuracy: 0.8615384697914124\n",
      "├ Train Loss: 0.3620, Train Accuracy: 0.3405, Validation Loss: 0.3782, Validation Accuracy: 0.2746, Time:  0:1.55m\n",
      "└ Validation accuracy improved: 0.2564 → 0.2746\n"
     ]
    },
    {
     "name": "stderr",
     "output_type": "stream",
     "text": [
      "Epoch [3/100]: 100%|████████████████████████████████████| 33/33 [00:01<00:00, 24.52it/s, loss=0.338]\n"
     ]
    },
    {
     "name": "stdout",
     "output_type": "stream",
     "text": [
      "Jac Samples: 0.2976923076923077\n",
      "Jac Micro: 0.2339622641509434\n",
      "Jac Macro: 0.06992461392867898\n",
      "Train Accuracy: 0.8698717951774597\n",
      "├ Train Loss: 0.3180, Train Accuracy: 0.2977, Validation Loss: 0.4131, Validation Accuracy: 0.2519, Time:  0:1.55m\n",
      "└ No improvement in validation accuracy. Patience counter: 1/10. Using LR: 1.0e-03\n"
     ]
    },
    {
     "name": "stderr",
     "output_type": "stream",
     "text": [
      "Epoch [4/100]: 100%|████████████████████████████████████| 33/33 [00:01<00:00, 24.77it/s, loss=0.319]\n"
     ]
    },
    {
     "name": "stdout",
     "output_type": "stream",
     "text": [
      "Jac Samples: 0.34512820512820513\n",
      "Jac Micro: 0.28413284132841327\n",
      "Jac Macro: 0.0955654159142531\n",
      "Train Accuracy: 0.8756410479545593\n",
      "├ Train Loss: 0.2999, Train Accuracy: 0.3451, Validation Loss: 0.4088, Validation Accuracy: 0.2462, Time:  0:1.54m\n",
      "└ No improvement in validation accuracy. Patience counter: 2/10. Using LR: 1.0e-04\n"
     ]
    },
    {
     "name": "stderr",
     "output_type": "stream",
     "text": [
      "Epoch [5/100]: 100%|████████████████████████████████████| 33/33 [00:01<00:00, 24.06it/s, loss=0.299]\n"
     ]
    },
    {
     "name": "stdout",
     "output_type": "stream",
     "text": [
      "Jac Samples: 0.39384615384615385\n",
      "Jac Micro: 0.35\n",
      "Jac Macro: 0.12413479052823313\n",
      "Train Accuracy: 0.8833333253860474\n",
      "├ Train Loss: 0.2809, Train Accuracy: 0.3938, Validation Loss: 0.3959, Validation Accuracy: 0.2197, Time:  0:1.57m\n",
      "└ No improvement in validation accuracy. Patience counter: 3/10. Using LR: 1.0e-04\n"
     ]
    },
    {
     "name": "stderr",
     "output_type": "stream",
     "text": [
      "Epoch [6/100]: 100%|████████████████████████████████████| 33/33 [00:01<00:00, 24.08it/s, loss=0.287]\n"
     ]
    },
    {
     "name": "stdout",
     "output_type": "stream",
     "text": [
      "Jac Samples: 0.4464102564102564\n",
      "Jac Micro: 0.3474903474903475\n",
      "Jac Macro: 0.12359317710824169\n",
      "Train Accuracy: 0.8916666507720947\n",
      "├ Train Loss: 0.2697, Train Accuracy: 0.4464, Validation Loss: 0.3997, Validation Accuracy: 0.2121, Time:  0:1.57m\n",
      "└ No improvement in validation accuracy. Patience counter: 4/10. Using LR: 1.0e-05\n"
     ]
    },
    {
     "name": "stderr",
     "output_type": "stream",
     "text": [
      "Epoch [7/100]: 100%|████████████████████████████████████| 33/33 [00:01<00:00, 24.04it/s, loss=0.280]\n"
     ]
    },
    {
     "name": "stdout",
     "output_type": "stream",
     "text": [
      "Jac Samples: 0.47397435897435897\n",
      "Jac Micro: 0.36220472440944884\n",
      "Jac Macro: 0.13186377224596987\n",
      "Train Accuracy: 0.8961538672447205\n",
      "├ Train Loss: 0.2629, Train Accuracy: 0.4740, Validation Loss: 0.3995, Validation Accuracy: 0.2121, Time:  0:1.57m\n",
      "└ No improvement in validation accuracy. Patience counter: 5/10. Using LR: 1.0e-05\n"
     ]
    },
    {
     "name": "stderr",
     "output_type": "stream",
     "text": [
      "Epoch [8/100]: 100%|████████████████████████████████████| 33/33 [00:01<00:00, 24.10it/s, loss=0.279]\n"
     ]
    },
    {
     "name": "stdout",
     "output_type": "stream",
     "text": [
      "Jac Samples: 0.47012820512820513\n",
      "Jac Micro: 0.36470588235294116\n",
      "Jac Macro: 0.1320916984680051\n",
      "Train Accuracy: 0.8961538672447205\n",
      "├ Train Loss: 0.2622, Train Accuracy: 0.4701, Validation Loss: 0.3996, Validation Accuracy: 0.2083, Time:  0:1.57m\n",
      "└ No improvement in validation accuracy. Patience counter: 6/10. Using LR: 1.0e-06\n"
     ]
    },
    {
     "name": "stderr",
     "output_type": "stream",
     "text": [
      "Epoch [9/100]: 100%|████████████████████████████████████| 33/33 [00:01<00:00, 24.07it/s, loss=0.281]\n"
     ]
    },
    {
     "name": "stdout",
     "output_type": "stream",
     "text": [
      "Jac Samples: 0.47717948717948716\n",
      "Jac Micro: 0.36220472440944884\n",
      "Jac Macro: 0.13069035844997626\n",
      "Train Accuracy: 0.8961538672447205\n",
      "├ Train Loss: 0.2643, Train Accuracy: 0.4772, Validation Loss: 0.3996, Validation Accuracy: 0.2083, Time:  0:1.57m\n",
      "└ No improvement in validation accuracy. Patience counter: 7/10. Using LR: 1.0e-06\n"
     ]
    },
    {
     "name": "stderr",
     "output_type": "stream",
     "text": [
      "Epoch [10/100]: 100%|███████████████████████████████████| 33/33 [00:01<00:00, 24.08it/s, loss=0.280]\n"
     ]
    },
    {
     "name": "stdout",
     "output_type": "stream",
     "text": [
      "Jac Samples: 0.4739743589743589\n",
      "Jac Micro: 0.3657587548638132\n",
      "Jac Macro: 0.13324816105303908\n",
      "Train Accuracy: 0.8955128192901611\n",
      "├ Train Loss: 0.2628, Train Accuracy: 0.4740, Validation Loss: 0.3997, Validation Accuracy: 0.2083, Time:  0:1.57m\n",
      "└ No improvement in validation accuracy. Patience counter: 8/10. Using LR: 1.0e-07\n"
     ]
    },
    {
     "name": "stderr",
     "output_type": "stream",
     "text": [
      "Epoch [11/100]: 100%|███████████████████████████████████| 33/33 [00:01<00:00, 24.28it/s, loss=0.282]\n"
     ]
    },
    {
     "name": "stdout",
     "output_type": "stream",
     "text": [
      "Jac Samples: 0.46564102564102566\n",
      "Jac Micro: 0.3568627450980392\n",
      "Jac Macro: 0.12920883800674743\n",
      "Train Accuracy: 0.8948717713356018\n",
      "├ Train Loss: 0.2653, Train Accuracy: 0.4656, Validation Loss: 0.3997, Validation Accuracy: 0.2083, Time:  0:1.55m\n",
      "└ No improvement in validation accuracy. Patience counter: 9/10. Using LR: 1.0e-07\n"
     ]
    },
    {
     "name": "stderr",
     "output_type": "stream",
     "text": [
      "Epoch [12/100]: 100%|███████████████████████████████████| 33/33 [00:01<00:00, 24.71it/s, loss=0.280]\n"
     ]
    },
    {
     "name": "stdout",
     "output_type": "stream",
     "text": [
      "Jac Samples: 0.4617948717948718\n",
      "Jac Micro: 0.3607843137254902\n",
      "Jac Macro: 0.13005917814280185\n",
      "Train Accuracy: 0.8955128192901611\n",
      "├ Train Loss: 0.2629, Train Accuracy: 0.4618, Validation Loss: 0.3997, Validation Accuracy: 0.2083, Time:  0:1.53m\n",
      "└ No improvement in validation accuracy. Patience counter: 10/10. Using LR: 1.0e-08\n",
      "Early stopping triggered! Best Validation Accuracy: 0.27, on epoch 2\n",
      "Finished Training: Best Validation Accuracy: 0.27, on epoch 2\n"
     ]
    }
   ],
   "source": [
    "# Trainiere das Modell\n",
    "epochs = 100\n",
    "lr = 0.001\n",
    "\n",
    "trained_model, train_losses, val_losses, train_accuracies, val_accuracies = train_model(\n",
    "    model=model,\n",
    "    train_loader=train_loader,\n",
    "    val_loader=val_loader,\n",
    "    epochs=epochs,\n",
    "    lr=lr,\n",
    "    device=device,\n",
    ")"
   ]
  },
  {
   "cell_type": "code",
   "execution_count": 12,
   "metadata": {},
   "outputs": [
    {
     "data": {
      "image/png": "[encoded data removed]",
      "text/plain": [
       "<Figure size 1200x600 with 2 Axes>"
      ]
     },
     "metadata": {},
     "output_type": "display_data"
    }
   ],
   "source": [
    "def plot_results(train_losses, val_losses, train_accuracies, val_accuracies):\n",
    "\n",
    "    epochs = range(1, len(train_losses) + 1)\n",
    "\n",
    "    # Loss Plot\n",
    "    plt.figure(figsize=(12, 6))\n",
    "    plt.subplot(1, 2, 1)\n",
    "    plt.plot(epochs, train_losses, label=\"Train Loss\")\n",
    "    plt.plot(epochs, val_losses, label=\"Validation Loss\")\n",
    "    plt.xticks(range(1, len(epochs) + 1))\n",
    "    plt.xlabel(\"Epochs\")\n",
    "    plt.ylabel(\"Loss\")\n",
    "    plt.title(\"Loss Over Epochs\")\n",
    "    plt.legend()\n",
    "\n",
    "    # Accuracy Plot\n",
    "    plt.subplot(1, 2, 2)\n",
    "    plt.plot(epochs, train_accuracies, label=\"Train Accuracy\")\n",
    "    plt.plot(epochs, val_accuracies, label=\"Validation Accuracy\")\n",
    "    plt.xticks(range(1, len(epochs) + 1))\n",
    "    plt.xlabel(\"Epochs\")\n",
    "    plt.ylabel(\"Accuracy\")\n",
    "    plt.title(\"Accuracy Over Epochs\")\n",
    "    plt.legend()\n",
    "\n",
    "    # Anzeigen\n",
    "    plt.tight_layout()\n",
    "    plt.show()\n",
    "\n",
    "\n",
    "plot_results(train_losses, val_losses, train_accuracies, val_accuracies)"
   ]
  },
  {
   "cell_type": "code",
   "execution_count": 13,
   "metadata": {},
   "outputs": [
    {
     "name": "stdout",
     "output_type": "stream",
     "text": [
      "Test Loss: 0.3642\n",
      "Test Accuracy: 0.0739\n"
     ]
    }
   ],
   "source": [
    "# Funktion zum Testen des Modells mit zusätzlichen Metriken\n",
    "def evaluate_model(model, test_loader):\n",
    "    model.eval()  # Setze das Modell in den Eval-Modus\n",
    "    test_loss = 0.0\n",
    "    test_labels = []\n",
    "    test_preds = []\n",
    "\n",
    "    criterion = nn.BCEWithLogitsLoss()\n",
    "\n",
    "    with torch.no_grad():  # Keine Gradientenberechnung für Test\n",
    "        for batch in test_loader:\n",
    "            tokens, labels = batch\n",
    "            tokens, labels = tokens.to(device), labels.to(device)\n",
    "\n",
    "            # Forward Pass\n",
    "            outputs = model(tokens)\n",
    "            loss = criterion(outputs.squeeze(), labels)\n",
    "            test_loss += loss.item()\n",
    "\n",
    "            probabilities = torch.sigmoid(outputs)\n",
    "            threshold = 0.5\n",
    "            test_preds += (probabilities >= threshold).cpu().int().numpy().tolist()\n",
    "            test_labels += topics_onehot.cpu().int().numpy().tolist()\n",
    "\n",
    "    # Berechne Metriken\n",
    "    test_accuracy = jaccard_score(\n",
    "        test_labels, test_preds, average=\"samples\", zero_division=1\n",
    "    )\n",
    "    prec_recall = multilabel_precision_recall_curve(\n",
    "        torch.tensor(test_preds), torch.tensor(test_labels), num_labels=len(topics)\n",
    "    )\n",
    "    # Ausgabe der Metriken\n",
    "    print(f\"Test Loss: {test_loss/len(test_loader):.4f}\")\n",
    "    print(f\"Test Accuracy: {test_accuracy:.4f}\")\n",
    "    # print(f\"Test PrecRec: {prec_recall}\")\n",
    "\n",
    "    return test_labels, test_preds\n",
    "\n",
    "\n",
    "# Teste das Modell\n",
    "test_labels, test_preds = evaluate_model(trained_model, test_loader)"
   ]
  },
  {
   "cell_type": "markdown",
   "metadata": {},
   "source": [
    "### Results\n",
    "\n",
    "**Hardware Specs:**\n",
    "- CPU: AMD Ryzen 7 3700X 8-Core\n",
    "- GPU: Nvidia GeForce RTX 3060 Ti\n",
    "- RAM: 48GB\n",
    "- OS: Linux Mint 22.1\n",
    "\n",
    "**Training Results**\n",
    "\n",
    "| Device | GRULayers | Dropout | EmbeddingDim | HiddenDim | VocabSize |    LR | Epoch | time/Epoch | TestAcc | TestF1 |\n",
    "| ------ | --------: | ------: | -----------: | --------: | --------: | ----: | ----: | ---------- | ------- | ------ |\n",
    "| Cuda   |         1 |       0 |          128 |       256 |     4.000 | 0.001 |       |            |         |        |"
   ]
  }
 ],
 "metadata": {
  "kernelspec": {
   "display_name": ".venv",
   "language": "python",
   "name": "python3"
  },
  "language_info": {
   "codemirror_mode": {
    "name": "ipython",
    "version": 3
   },
   "file_extension": ".py",
   "mimetype": "text/x-python",
   "name": "python",
   "nbconvert_exporter": "python",
   "pygments_lexer": "ipython3",
   "version": "3.12.3"
  }
 },
 "nbformat": 4,
 "nbformat_minor": 2
}
