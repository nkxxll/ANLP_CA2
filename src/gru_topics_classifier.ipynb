{
 "cells": [
  {
   "cell_type": "markdown",
   "metadata": {},
   "source": [
    "# GRU Classifier"
   ]
  },
  {
   "cell_type": "code",
   "execution_count": 13,
   "metadata": {},
   "outputs": [
    {
     "name": "stdout",
     "output_type": "stream",
     "text": [
      "The autoreload extension is already loaded. To reload it, use:\n",
      "  %reload_ext autoreload\n"
     ]
    }
   ],
   "source": [
    "%load_ext autoreload\n",
    "%autoreload 2"
   ]
  },
  {
   "cell_type": "code",
   "execution_count": null,
   "metadata": {},
   "outputs": [],
   "source": [
    "import sys\n",
    "import time\n",
    "import random\n",
    "import json\n",
    "import numpy as np\n",
    "import pandas as pd\n",
    "import torch\n",
    "import torch.nn as nn\n",
    "import torch.optim as optim\n",
    "from torch.utils.data import DataLoader\n",
    "import sentencepiece as spm\n",
    "from sklearn.model_selection import train_test_split\n",
    "from sklearn.metrics import jaccard_score\n",
    "from torcheval.metrics.functional import (\n",
    "    multilabel_accuracy,\n",
    "    multilabel_precision_recall_curve,\n",
    ")\n",
    "\n",
    "from tqdm import tqdm\n",
    "import matplotlib.pyplot as plt\n",
    "\n",
    "sys.path.append(\"scripts\")\n",
    "from scripts.steam_review_dataset import SteamReviewDataset\n",
    "from scripts.annotations import update_df_review_labels"
   ]
  },
  {
   "cell_type": "code",
   "execution_count": 15,
   "metadata": {},
   "outputs": [
    {
     "name": "stdout",
     "output_type": "stream",
     "text": [
      "Using cuda device\n"
     ]
    }
   ],
   "source": [
    "device = torch.device(\n",
    "    \"cuda\"\n",
    "    if torch.cuda.is_available()\n",
    "    else \"mps\" if torch.backends.mps.is_available() else \"cpu\"\n",
    ")\n",
    "print(f\"Using {device} device\")"
   ]
  },
  {
   "cell_type": "code",
   "execution_count": 16,
   "metadata": {},
   "outputs": [],
   "source": [
    "seed = 1234\n",
    "\n",
    "random.seed(seed)\n",
    "np.random.seed(seed)\n",
    "torch.manual_seed(seed)\n",
    "torch.cuda.manual_seed_all(seed)\n",
    "torch.backends.cudnn.deterministic = True"
   ]
  },
  {
   "cell_type": "code",
   "execution_count": 17,
   "metadata": {},
   "outputs": [
    {
     "name": "stdout",
     "output_type": "stream",
     "text": [
      "Found 12 topics: ['gamemode', 'bugs', 'visuals', 'story', 'support', 'updates', 'hardware_requirements', 'online_play', 'seasonal_content', 'sound', 'price', 'gameplay']\n",
      "\n",
      "<class 'pandas.core.frame.DataFrame'>\n",
      "RangeIndex: 2000 entries, 0 to 1999\n",
      "Data columns (total 18 columns):\n",
      " #   Column                 Non-Null Count  Dtype  \n",
      "---  ------                 --------------  -----  \n",
      " 0   review_id              2000 non-null   int64  \n",
      " 1   review                 2000 non-null   object \n",
      " 2   voted_up               2000 non-null   bool   \n",
      " 3   votes_up               2000 non-null   int64  \n",
      " 4   weighted_vote_score    2000 non-null   float64\n",
      " 5   app_id                 2000 non-null   int64  \n",
      " 6   gamemode               2000 non-null   float64\n",
      " 7   bugs                   2000 non-null   float64\n",
      " 8   visuals                2000 non-null   float64\n",
      " 9   story                  2000 non-null   float64\n",
      " 10  support                2000 non-null   float64\n",
      " 11  updates                2000 non-null   float64\n",
      " 12  hardware_requirements  2000 non-null   float64\n",
      " 13  online_play            2000 non-null   float64\n",
      " 14  seasonal_content       2000 non-null   float64\n",
      " 15  sound                  2000 non-null   float64\n",
      " 16  price                  2000 non-null   float64\n",
      " 17  gameplay               2000 non-null   float64\n",
      "dtypes: bool(1), float64(13), int64(3), object(1)\n",
      "memory usage: 267.7+ KB\n",
      "None\n",
      "\n",
      "Topic distribution:\n",
      "gamemode                  570.0\n",
      "bugs                      531.0\n",
      "visuals                   357.0\n",
      "story                     376.0\n",
      "support                   513.0\n",
      "updates                   229.0\n",
      "hardware_requirements     136.0\n",
      "online_play               425.0\n",
      "seasonal_content           79.0\n",
      "sound                      77.0\n",
      "price                     396.0\n",
      "gameplay                 1238.0\n",
      "dtype: float64\n"
     ]
    }
   ],
   "source": [
    "# Lade die Daten\n",
    "df = pd.read_csv(\"../data/reviews_100k_cleaned_new.csv.bz2\")\n",
    "\n",
    "# Lade labels\n",
    "llm_notation_file = (\n",
    "    \"./scripts/results/annotations-v3-2025-02-14T17_38_08.995970-n2000-llama3.2.json\"\n",
    ")\n",
    "\n",
    "with open(llm_notation_file, \"r\") as fi:\n",
    "    review_id_with_topics = {\n",
    "        int(k): v for k, v in json.load(fi).items()\n",
    "    }  # str keys to int\n",
    "\n",
    "df, topics = update_df_review_labels(df, review_id_with_topics, dropna=True)\n",
    "\n",
    "print(f\"Found {len(topics)} topics: {topics}\\n\")\n",
    "print(df.info())\n",
    "print(\"\\nTopic distribution:\")\n",
    "print(df.iloc[:, -12:].sum())"
   ]
  },
  {
   "cell_type": "code",
   "execution_count": 18,
   "metadata": {},
   "outputs": [
    {
     "name": "stdout",
     "output_type": "stream",
     "text": [
      "Original size: 2000\n",
      "Train size: 1200\n",
      "Validation size: 400\n",
      "Test size: 400\n"
     ]
    }
   ],
   "source": [
    "# Aufteilen in Train+Validation und Test (80/20 Split)\n",
    "train_val_df, test_df = train_test_split(\n",
    "    df,\n",
    "    test_size=0.2,\n",
    "    random_state=42,  # TODO stratify causes issues with multilabel targets\n",
    ")\n",
    "\n",
    "# Aufteilen von Train+Validation in Training und Validation (75/25 von Train+Val)\n",
    "train_df, val_df = train_test_split(train_val_df, test_size=0.25, random_state=42)\n",
    "\n",
    "# Überprüfe die Größe der Splits\n",
    "print(f\"Original size: {len(df)}\")\n",
    "print(f\"Train size: {len(train_df)}\")\n",
    "print(f\"Validation size: {len(val_df)}\")\n",
    "print(f\"Test size: {len(test_df)}\")"
   ]
  },
  {
   "cell_type": "code",
   "execution_count": 19,
   "metadata": {},
   "outputs": [
    {
     "name": "stdout",
     "output_type": "stream",
     "text": [
      "Tokens shape: torch.Size([16, 200]), Labels shape: torch.Size([16, 12])\n",
      "(tensor([ 508,  185,  104,   76,   28, 1355,  989,  391,    4, 1531, 1628, 1124,\n",
      "        1036,   22,  105, 1140,    4,  186,    5,   31,    9, 2941,   12,    4,\n",
      "         162, 2434,    6, 1521,  325,    6,    4,  958,  162,  368,    7, 2118,\n",
      "        2125,  109,    6,  109,    6,  109,  177,  105, 1140,  423,   25,  256,\n",
      "          16,  190, 3867,  186,  238,   19,  289,   76,   28,   41, 1052,   11,\n",
      "          58,  274,    4,   34,   36,   13,  127,  423,  144,   16, 3090,   29,\n",
      "          35,  542,   12,  347,  111, 3529,    5,  560,   38,    4,  186, 1739,\n",
      "          44, 3246,   63,    6, 1426,  105,   13,   43,   70,   14,    4,   78,\n",
      "           5, 2766,   47,  118,    6,   57,   12,    4,  186, 1609, 3084,  673,\n",
      "          60,  430,  161,   89, 1360,   48,    4,   95,    0,    0,    0,    0,\n",
      "           0,    0,    0,    0,    0,    0,    0,    0,    0,    0,    0,    0,\n",
      "           0,    0,    0,    0,    0,    0,    0,    0,    0,    0,    0,    0,\n",
      "           0,    0,    0,    0,    0,    0,    0,    0,    0,    0,    0,    0,\n",
      "           0,    0,    0,    0,    0,    0,    0,    0,    0,    0,    0,    0,\n",
      "           0,    0,    0,    0,    0,    0,    0,    0,    0,    0,    0,    0,\n",
      "           0,    0,    0,    0,    0,    0,    0,    0,    0,    0,    0,    0,\n",
      "           0,    0,    0,    0,    0,    0,    0,    0]), tensor([0., 0., 0., 1., 0., 0., 0., 0., 0., 0., 0., 1.]))\n"
     ]
    }
   ],
   "source": [
    "# Erstelle Dataset-Objekte\n",
    "tokenizer = spm.SentencePieceProcessor(model_file=\"../data/reviews_unigram.model\")\n",
    "max_len = 200  # 91% der Reviews haben weniger als 200 Tokens\n",
    "batch_size = 16\n",
    "\n",
    "train_dataset = SteamReviewDataset(\n",
    "    data=train_df,\n",
    "    tokenizer=tokenizer,\n",
    "    max_len=max_len,\n",
    "    topic_mode=True,\n",
    "    topics=topics,\n",
    ")\n",
    "val_dataset = SteamReviewDataset(\n",
    "    data=val_df,\n",
    "    tokenizer=tokenizer,\n",
    "    max_len=max_len,\n",
    "    topic_mode=True,\n",
    "    topics=topics,\n",
    ")\n",
    "test_dataset = SteamReviewDataset(\n",
    "    data=test_df,\n",
    "    tokenizer=tokenizer,\n",
    "    max_len=max_len,\n",
    "    topic_mode=True,\n",
    "    topics=topics,\n",
    ")\n",
    "\n",
    "# Erstelle DataLoader für jeden Split\n",
    "train_loader = DataLoader(train_dataset, batch_size=batch_size, shuffle=True)\n",
    "val_loader = DataLoader(val_dataset, batch_size=batch_size, shuffle=False)\n",
    "test_loader = DataLoader(test_dataset, batch_size=batch_size, shuffle=False)\n",
    "\n",
    "# Batch Shape\n",
    "for tokens, topics_onehot in train_loader:\n",
    "    print(f\"Tokens shape: {tokens.shape}, Labels shape: {topics_onehot.shape}\")\n",
    "    break\n",
    "\n",
    "print(train_dataset[0])"
   ]
  },
  {
   "cell_type": "code",
   "execution_count": 20,
   "metadata": {},
   "outputs": [],
   "source": [
    "class GRUClassifier(nn.Module):\n",
    "    def __init__(\n",
    "        self,\n",
    "        vocab_size: int,\n",
    "        embedding_dim: int,\n",
    "        gru_layers: int,\n",
    "        hidden_dim: int,\n",
    "        dropout: float,\n",
    "        output_dim: int,\n",
    "        pad_idx: int,\n",
    "    ):\n",
    "        super(GRUClassifier, self).__init__()\n",
    "        self.embedding = nn.Embedding(\n",
    "            num_embeddings=vocab_size, embedding_dim=embedding_dim, padding_idx=pad_idx\n",
    "        )\n",
    "        self.gru = nn.GRU(\n",
    "            input_size=embedding_dim,\n",
    "            num_layers=gru_layers,\n",
    "            hidden_size=hidden_dim,\n",
    "            dropout=dropout if gru_layers > 1 else 0,\n",
    "            batch_first=True,\n",
    "        )\n",
    "        self.fc = nn.Linear(hidden_dim, output_dim)\n",
    "\n",
    "    def forward(self, x):\n",
    "        # x: (batch_size, seq_length)\n",
    "\n",
    "        embedded = self.embedding(x)  # (batch_size, seq_length, embedding_dim)\n",
    "\n",
    "        gru_out, _ = self.gru(embedded)  # (batch_size, seq_length, hidden_dim)\n",
    "\n",
    "        last_hidden_state = gru_out[:, -1, :]  # (batch_size, hidden_dim)\n",
    "\n",
    "        output = self.fc(last_hidden_state)  # (batch_size, output_dim)\n",
    "\n",
    "        return output"
   ]
  },
  {
   "cell_type": "code",
   "execution_count": 21,
   "metadata": {},
   "outputs": [],
   "source": [
    "def train_model(\n",
    "    model: GRUClassifier,\n",
    "    train_loader: DataLoader,\n",
    "    val_loader: DataLoader,\n",
    "    epochs: int,\n",
    "    lr: float,\n",
    "    device=torch.device(\"cpu\"),\n",
    "):\n",
    "    # Loss und Optimizer definieren\n",
    "    criterion = nn.BCEWithLogitsLoss()\n",
    "    optimizer = optim.AdamW(model.parameters(), lr=lr, weight_decay=1e-4, fused=False)\n",
    "    scheduler = optim.lr_scheduler.ReduceLROnPlateau(\n",
    "        optimizer, mode=\"min\", factor=0.1, patience=1\n",
    "    )\n",
    "\n",
    "    model.to(device)\n",
    "\n",
    "    print(f\"Start training on device '{device}'\")\n",
    "\n",
    "    # Early Stopping Parameter\n",
    "    patience = 5\n",
    "    patience_counter = 0\n",
    "    best_val_accuracy = 0.0\n",
    "    best_model_state = None\n",
    "    last_epoch = 0\n",
    "\n",
    "    # Listen für Visualisierung\n",
    "    train_losses, val_losses = [], []\n",
    "    train_accuracies, val_accuracies = [], []\n",
    "\n",
    "    # Training und Validation Loop\n",
    "    for epoch in range(epochs):\n",
    "        model.train()\n",
    "        running_loss = 0.0\n",
    "        train_labels = []\n",
    "        train_preds = []\n",
    "\n",
    "        train_progress = tqdm(\n",
    "            train_loader, desc=f\"Epoch [{epoch+1}/{epochs}]\", ncols=100\n",
    "        )\n",
    "\n",
    "        epoch_start_time = time.time()  # Startzeit für die Epoche\n",
    "\n",
    "        # Trainingsloop\n",
    "        for batch in train_progress:\n",
    "            tokens, topics_onehot = batch\n",
    "\n",
    "            tokens, topics_onehot = tokens.to(device), topics_onehot.to(device)\n",
    "\n",
    "            # Forward Pass\n",
    "            optimizer.zero_grad()\n",
    "            outputs = model(tokens)\n",
    "\n",
    "            loss = criterion(outputs, topics_onehot)\n",
    "\n",
    "            # Backward Pass und Optimierung\n",
    "            loss.backward()\n",
    "            nn.utils.clip_grad_norm_(model.parameters(), max_norm=1.0)\n",
    "            optimizer.step()\n",
    "\n",
    "            running_loss += loss.item()\n",
    "\n",
    "            # Berechne Predictions und füge sie zur Liste hinzu\n",
    "            probabilities = torch.sigmoid(outputs)\n",
    "            threshold = 0.5\n",
    "            train_preds += (probabilities >= threshold).cpu().int().numpy().tolist()\n",
    "            train_labels += topics_onehot.cpu().int().numpy().tolist()\n",
    "\n",
    "            # Update TQDM mit dem aktuellen Loss\n",
    "            train_progress.set_postfix(\n",
    "                loss=f\"{running_loss / (train_progress.n + 1):.3f}\"\n",
    "            )\n",
    "\n",
    "        # Berechne Trainings-Accuracy\n",
    "        train_accuracy = jaccard_score(\n",
    "            train_labels, train_preds, average=\"samples\", zero_division=1\n",
    "        )\n",
    "\n",
    "        train_losses.append(running_loss / len(train_loader))\n",
    "        train_accuracies.append(train_accuracy)\n",
    "\n",
    "        # Validierung\n",
    "        model.eval()\n",
    "        val_loss = 0.0\n",
    "        val_labels = []\n",
    "        val_preds = []\n",
    "\n",
    "        with torch.no_grad():\n",
    "            for batch in val_loader:\n",
    "                tokens, topics_onehot = batch\n",
    "                tokens, topics_onehot = tokens.to(device), topics_onehot.to(device)\n",
    "\n",
    "                outputs = model(tokens)\n",
    "                loss = criterion(outputs.squeeze(), topics_onehot)\n",
    "                val_loss += loss.item()\n",
    "\n",
    "                probabilities = torch.sigmoid(outputs)\n",
    "                threshold = 0.5\n",
    "                val_preds += (probabilities >= threshold).cpu().int().numpy().tolist()\n",
    "                val_labels += topics_onehot.cpu().int().numpy().tolist()\n",
    "\n",
    "        scheduler.step(val_loss)  # Scheduler mit Validierungs-Loss aufrufen\n",
    "\n",
    "        # Berechne Validierungs-Accuracy\n",
    "        val_accuracy = jaccard_score(\n",
    "            val_labels, val_preds, average=\"samples\", zero_division=1\n",
    "        )\n",
    "\n",
    "        val_losses.append(val_loss / len(val_loader))\n",
    "        val_accuracies.append(val_accuracy)\n",
    "\n",
    "        epoch_end_time = time.time()\n",
    "        epoch_duration = epoch_end_time - epoch_start_time\n",
    "        mins, secs = divmod(epoch_duration, 60)\n",
    "\n",
    "        print(\n",
    "            \"├ \"\n",
    "            f\"Train Loss: {running_loss/len(train_loader):.4f}, \"\n",
    "            f\"Train Accuracy: {train_accuracy:.4f}, \"\n",
    "            f\"Validation Loss: {val_loss/len(val_loader):.4f}, \"\n",
    "            f\"Validation Accuracy: {val_accuracy:.4f}, \"\n",
    "            f\"Time: {int(mins):2}:{secs:.2f}m\"\n",
    "        )\n",
    "\n",
    "        # Early Stopping Überprüfung\n",
    "        if val_accuracy > best_val_accuracy:\n",
    "            print(\n",
    "                f\"└ Validation accuracy improved: {best_val_accuracy:.4f} → {val_accuracy:.4f}\"\n",
    "            )\n",
    "            best_val_accuracy = val_accuracy\n",
    "            patience_counter = 0\n",
    "            best_model_state = model.state_dict()  # Speichere das beste Modell\n",
    "            last_epoch = epoch\n",
    "        else:\n",
    "            patience_counter += 1\n",
    "            print(\n",
    "                f\"└ No improvement in validation accuracy. \"\n",
    "                f\"Patience counter: {patience_counter}/{patience}. Using LR: {scheduler.get_last_lr()[0]:.1e}\",\n",
    "            )\n",
    "            # Überprüfe, ob Early Stopping ausgelöst werden soll\n",
    "            if patience_counter >= patience:\n",
    "                print(\n",
    "                    \"Early stopping triggered! \"\n",
    "                    f\"Best Validation Accuracy: {best_val_accuracy:.2f}, on epoch {last_epoch+1}\"\n",
    "                )\n",
    "                break\n",
    "\n",
    "    # Lade das beste Modell zurück, falls Early Stopping ausgelöst wurde\n",
    "    if best_model_state is not None:\n",
    "        model.load_state_dict(best_model_state)\n",
    "\n",
    "    print(\n",
    "        f\"Finished Training: Best Validation Accuracy: {best_val_accuracy:.2f}, on epoch {last_epoch+1}\"\n",
    "    )\n",
    "\n",
    "    return model, train_losses, val_losses, train_accuracies, val_accuracies, last_epoch"
   ]
  },
  {
   "cell_type": "code",
   "execution_count": 22,
   "metadata": {},
   "outputs": [
    {
     "name": "stdout",
     "output_type": "stream",
     "text": [
      "GRUClassifier(\n",
      "  (embedding): Embedding(4000, 512, padding_idx=0)\n",
      "  (gru): GRU(512, 1024, num_layers=2, batch_first=True, dropout=0.5)\n",
      "  (fc): Linear(in_features=1024, out_features=12, bias=True)\n",
      ")\n"
     ]
    }
   ],
   "source": [
    "# Lade den Tokenizer, um `vocab_size` und `pad_id` zu erhalten\n",
    "tokenizer = spm.SentencePieceProcessor(model_file=\"../data/reviews_unigram.model\")\n",
    "vocab_size = tokenizer.get_piece_size()\n",
    "pad_idx = tokenizer.pad_id()\n",
    "\n",
    "# Modellparameter\n",
    "embedding_dim = 512\n",
    "gru_layers = 2\n",
    "hidden_dim = 1024\n",
    "output_dim = len(topics)\n",
    "dropout = 0.5\n",
    "\n",
    "# Initialisiere das GRU-Modell\n",
    "model = GRUClassifier(\n",
    "    vocab_size=vocab_size,\n",
    "    embedding_dim=embedding_dim,\n",
    "    gru_layers=gru_layers,\n",
    "    hidden_dim=hidden_dim,\n",
    "    dropout=dropout,\n",
    "    output_dim=output_dim,\n",
    "    pad_idx=pad_idx,\n",
    ")\n",
    "print(model)"
   ]
  },
  {
   "cell_type": "code",
   "execution_count": 23,
   "metadata": {},
   "outputs": [
    {
     "name": "stdout",
     "output_type": "stream",
     "text": [
      "Start training on device 'cuda'\n"
     ]
    },
    {
     "name": "stderr",
     "output_type": "stream",
     "text": [
      "Epoch [1/100]: 100%|████████████████████████████████████| 75/75 [00:04<00:00, 18.35it/s, loss=0.461]\n"
     ]
    },
    {
     "name": "stdout",
     "output_type": "stream",
     "text": [
      "├ Train Loss: 0.4609, Train Accuracy: 0.2825, Validation Loss: 0.4413, Validation Accuracy: 0.3052, Time:  0:4.71m\n",
      "└ Validation accuracy improved: 0.0000 → 0.3052\n"
     ]
    },
    {
     "name": "stderr",
     "output_type": "stream",
     "text": [
      "Epoch [2/100]: 100%|████████████████████████████████████| 75/75 [00:04<00:00, 18.51it/s, loss=0.427]\n"
     ]
    },
    {
     "name": "stdout",
     "output_type": "stream",
     "text": [
      "├ Train Loss: 0.4273, Train Accuracy: 0.2926, Validation Loss: 0.4440, Validation Accuracy: 0.2067, Time:  0:4.67m\n",
      "└ No improvement in validation accuracy. Patience counter: 1/5. Using LR: 1.0e-03\n"
     ]
    },
    {
     "name": "stderr",
     "output_type": "stream",
     "text": [
      "Epoch [3/100]: 100%|████████████████████████████████████| 75/75 [00:04<00:00, 18.27it/s, loss=0.403]\n"
     ]
    },
    {
     "name": "stdout",
     "output_type": "stream",
     "text": [
      "├ Train Loss: 0.4029, Train Accuracy: 0.3198, Validation Loss: 0.4491, Validation Accuracy: 0.3196, Time:  0:4.73m\n",
      "└ Validation accuracy improved: 0.3052 → 0.3196\n"
     ]
    },
    {
     "name": "stderr",
     "output_type": "stream",
     "text": [
      "Epoch [4/100]: 100%|████████████████████████████████████| 75/75 [00:04<00:00, 18.24it/s, loss=0.365]\n"
     ]
    },
    {
     "name": "stdout",
     "output_type": "stream",
     "text": [
      "├ Train Loss: 0.3646, Train Accuracy: 0.3790, Validation Loss: 0.4406, Validation Accuracy: 0.2987, Time:  0:4.72m\n",
      "└ No improvement in validation accuracy. Patience counter: 1/5. Using LR: 1.0e-04\n"
     ]
    },
    {
     "name": "stderr",
     "output_type": "stream",
     "text": [
      "Epoch [5/100]: 100%|████████████████████████████████████| 75/75 [00:04<00:00, 18.22it/s, loss=0.343]\n"
     ]
    },
    {
     "name": "stdout",
     "output_type": "stream",
     "text": [
      "├ Train Loss: 0.3434, Train Accuracy: 0.3873, Validation Loss: 0.4432, Validation Accuracy: 0.2883, Time:  0:4.73m\n",
      "└ No improvement in validation accuracy. Patience counter: 2/5. Using LR: 1.0e-04\n"
     ]
    },
    {
     "name": "stderr",
     "output_type": "stream",
     "text": [
      "Epoch [6/100]: 100%|████████████████████████████████████| 75/75 [00:04<00:00, 18.24it/s, loss=0.326]\n"
     ]
    },
    {
     "name": "stdout",
     "output_type": "stream",
     "text": [
      "├ Train Loss: 0.3257, Train Accuracy: 0.4116, Validation Loss: 0.4471, Validation Accuracy: 0.2753, Time:  0:4.73m\n",
      "└ No improvement in validation accuracy. Patience counter: 3/5. Using LR: 1.0e-05\n"
     ]
    },
    {
     "name": "stderr",
     "output_type": "stream",
     "text": [
      "Epoch [7/100]: 100%|████████████████████████████████████| 75/75 [00:04<00:00, 18.23it/s, loss=0.310]\n"
     ]
    },
    {
     "name": "stdout",
     "output_type": "stream",
     "text": [
      "├ Train Loss: 0.3095, Train Accuracy: 0.4282, Validation Loss: 0.4481, Validation Accuracy: 0.2915, Time:  0:4.73m\n",
      "└ No improvement in validation accuracy. Patience counter: 4/5. Using LR: 1.0e-05\n"
     ]
    },
    {
     "name": "stderr",
     "output_type": "stream",
     "text": [
      "Epoch [8/100]: 100%|████████████████████████████████████| 75/75 [00:04<00:00, 18.24it/s, loss=0.308]\n"
     ]
    },
    {
     "name": "stdout",
     "output_type": "stream",
     "text": [
      "├ Train Loss: 0.3075, Train Accuracy: 0.4352, Validation Loss: 0.4494, Validation Accuracy: 0.2913, Time:  0:4.73m\n",
      "└ No improvement in validation accuracy. Patience counter: 5/5. Using LR: 1.0e-06\n",
      "Early stopping triggered! Best Validation Accuracy: 0.32, on epoch 3\n",
      "Finished Training: Best Validation Accuracy: 0.32, on epoch 3\n"
     ]
    }
   ],
   "source": [
    "# Trainiere das Modell\n",
    "epochs = 100\n",
    "lr = 0.001\n",
    "\n",
    "(\n",
    "    trained_model,\n",
    "    train_losses,\n",
    "    val_losses,\n",
    "    train_accuracies,\n",
    "    val_accuracies,\n",
    "    last_epoch,\n",
    ") = train_model(\n",
    "    model=model,\n",
    "    train_loader=train_loader,\n",
    "    val_loader=val_loader,\n",
    "    epochs=epochs,\n",
    "    lr=lr,\n",
    "    device=device,\n",
    ")"
   ]
  },
  {
   "cell_type": "code",
   "execution_count": 32,
   "metadata": {},
   "outputs": [
    {
     "data": {
      "image/png": "[encoded data removed]",
      "text/plain": [
       "<Figure size 1200x600 with 2 Axes>"
      ]
     },
     "metadata": {},
     "output_type": "display_data"
    }
   ],
   "source": [
    "def plot_results(\n",
    "    train_losses, val_losses, train_accuracies, val_accuracies, last_epoch\n",
    "):\n",
    "\n",
    "    epochs = range(1, len(train_losses) + 1)\n",
    "\n",
    "    # Loss Plot\n",
    "    plt.figure(figsize=(12, 6))\n",
    "    plt.subplot(1, 2, 1)\n",
    "    plt.plot(epochs, train_losses, label=\"Train Loss\")\n",
    "    plt.plot(epochs, val_losses, label=\"Validation Loss\")\n",
    "    plt.axvline(\n",
    "        x=last_epoch + 1,\n",
    "        color=\"r\",\n",
    "        linestyle=\"--\",\n",
    "        label=f\"Early Stopping triggered\",\n",
    "        alpha=0.7,\n",
    "    )\n",
    "    plt.xticks(range(1, len(epochs) + 1))\n",
    "    plt.xlabel(\"Epochs\")\n",
    "    plt.ylabel(\"Loss\")\n",
    "    plt.title(\"Loss Over Epochs\")\n",
    "    plt.legend()\n",
    "\n",
    "    # Accuracy Plot\n",
    "    plt.subplot(1, 2, 2)\n",
    "    plt.plot(epochs, train_accuracies, label=\"Train Accuracy\")\n",
    "    plt.plot(epochs, val_accuracies, label=\"Validation Accuracy\")\n",
    "    plt.axvline(\n",
    "        x=last_epoch + 1,\n",
    "        color=\"r\",\n",
    "        linestyle=\"--\",\n",
    "        label=f\"Early Stopping triggered\",\n",
    "        alpha=0.7,\n",
    "    )\n",
    "    plt.xticks(range(1, len(epochs) + 1))\n",
    "    plt.xlabel(\"Epochs\")\n",
    "    plt.ylabel(\"Accuracy\")\n",
    "    plt.title(\"Accuracy Over Epochs\")\n",
    "    plt.legend()\n",
    "    # Add vertical line at specific x value\n",
    "\n",
    "    # Anzeigen\n",
    "    plt.tight_layout()\n",
    "    plt.show()\n",
    "\n",
    "\n",
    "plot_results(train_losses, val_losses, train_accuracies, val_accuracies, last_epoch)"
   ]
  },
  {
   "cell_type": "code",
   "execution_count": 25,
   "metadata": {},
   "outputs": [
    {
     "name": "stdout",
     "output_type": "stream",
     "text": [
      "Test Loss: 0.4546\n",
      "Jaccard Samples 0: 0.2345\n",
      "Jaccard Samples 1: 0.2520\n",
      "Jaccard Micro: 0.2260\n",
      "Jaccard Macro: 0.1550\n",
      "Multilabel Accurcy: 0.8302\n"
     ]
    }
   ],
   "source": [
    "# Funktion zum Testen des Modells mit zusätzlichen Metriken\n",
    "def evaluate_model(model, test_loader):\n",
    "    model.eval()  # Setze das Modell in den Eval-Modus\n",
    "    test_loss = 0.0\n",
    "    test_labels = []\n",
    "    test_preds = []\n",
    "\n",
    "    criterion = nn.BCEWithLogitsLoss()\n",
    "\n",
    "    with torch.no_grad():  # Keine Gradientenberechnung für Test\n",
    "        for batch in test_loader:\n",
    "            tokens, labels = batch\n",
    "            tokens, labels = tokens.to(device), labels.to(device)\n",
    "\n",
    "            # Forward Pass\n",
    "            outputs = model(tokens)\n",
    "            loss = criterion(outputs.squeeze(), labels)\n",
    "            test_loss += loss.item()\n",
    "\n",
    "            probabilities = torch.sigmoid(outputs)\n",
    "            threshold = 0.5\n",
    "            test_preds += (probabilities >= threshold).cpu().int().numpy().tolist()\n",
    "            test_labels += topics_onehot.cpu().int().numpy().tolist()\n",
    "\n",
    "    # Berechne Metriken\n",
    "    test_accuracy = jaccard_score(\n",
    "        test_labels, test_preds, average=\"samples\", zero_division=1\n",
    "    )\n",
    "    prec_recall = multilabel_precision_recall_curve(\n",
    "        torch.tensor(test_preds), torch.tensor(test_labels), num_labels=len(topics)\n",
    "    )\n",
    "    # Ausgabe der Metriken\n",
    "    print(f\"Test Loss: {test_loss/len(test_loader):.4f}\")\n",
    "    # print(f\"Test Accuracy: {test_accuracy:.4f}\")\n",
    "    # print(f\"Test PrecRec: {prec_recall}\")\n",
    "\n",
    "    print(\n",
    "        f\"Jaccard Samples 0: {jaccard_score(test_labels, test_preds, average=\"samples\", zero_division=0):.4f}\"\n",
    "    )\n",
    "    print(\n",
    "        f\"Jaccard Samples 1: {jaccard_score(test_labels, test_preds, average=\"samples\", zero_division=1):.4f}\"\n",
    "    )\n",
    "    print(\n",
    "        f\"Jaccard Micro: {jaccard_score(test_labels, test_preds, average=\"micro\", zero_division=1):.4f}\"\n",
    "    )\n",
    "    print(\n",
    "        f\"Jaccard Macro: {jaccard_score(test_labels, test_preds, average=\"macro\", zero_division=1):.4f}\"\n",
    "    )\n",
    "    print(\n",
    "        f\"Multilabel Accurcy: {multilabel_accuracy(\n",
    "            torch.tensor(test_preds),\n",
    "            torch.tensor(test_labels),\n",
    "            criteria=\"hamming\"\n",
    "            ).item():.4f}\"\n",
    "    )\n",
    "\n",
    "    return test_labels, test_preds\n",
    "\n",
    "\n",
    "# Teste das Modell\n",
    "test_labels, test_preds = evaluate_model(trained_model, test_loader)"
   ]
  },
  {
   "cell_type": "markdown",
   "metadata": {},
   "source": [
    "### Results\n",
    "\n",
    "**Hardware Specs:**\n",
    "- CPU: AMD Ryzen 7 3700X 8-Core\n",
    "- GPU: Nvidia GeForce RTX 3060 Ti\n",
    "- RAM: 48GB\n",
    "- OS: Linux Mint 22.1\n",
    "\n",
    "**Training Results**\n",
    "\n",
    "| Device | GRULayers | Dropout | EmbeddingDim | HiddenDim | VocabSize |    LR | Epoch | time/Epoch | TestAcc | TestF1 |\n",
    "| ------ | --------: | ------: | -----------: | --------: | --------: | ----: | ----: | ---------- | ------- | ------ |\n",
    "| Cuda   |         2 |     0.5 |          512 |      1024 |     4.000 | 0.001 |       |            |         |        |"
   ]
  }
 ],
 "metadata": {
  "kernelspec": {
   "display_name": ".venv",
   "language": "python",
   "name": "python3"
  },
  "language_info": {
   "codemirror_mode": {
    "name": "ipython",
    "version": 3
   },
   "file_extension": ".py",
   "mimetype": "text/x-python",
   "name": "python",
   "nbconvert_exporter": "python",
   "pygments_lexer": "ipython3",
   "version": "3.12.3"
  }
 },
 "nbformat": 4,
 "nbformat_minor": 2
}
