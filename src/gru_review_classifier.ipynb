{
 "cells": [
  {
   "cell_type": "markdown",
   "metadata": {},
   "source": [
    "# GRU Classifier"
   ]
  },
  {
   "cell_type": "code",
   "execution_count": 93,
   "metadata": {},
   "outputs": [
    {
     "name": "stdout",
     "output_type": "stream",
     "text": [
      "The autoreload extension is already loaded. To reload it, use:\n",
      "  %reload_ext autoreload\n"
     ]
    }
   ],
   "source": [
    "%load_ext autoreload\n",
    "%autoreload 2"
   ]
  },
  {
   "cell_type": "code",
   "execution_count": 94,
   "metadata": {},
   "outputs": [],
   "source": [
    "import sys\n",
    "import time\n",
    "\n",
    "import numpy as np\n",
    "import pandas as pd\n",
    "import torch\n",
    "import torch.nn as nn\n",
    "import torch.optim as optim\n",
    "from torch.utils.data import DataLoader\n",
    "import sentencepiece as spm\n",
    "from sklearn.model_selection import train_test_split\n",
    "from sklearn.metrics import (\n",
    "    accuracy_score,\n",
    "    precision_score,\n",
    "    recall_score,\n",
    "    f1_score,\n",
    ")\n",
    "from tqdm import tqdm\n",
    "import matplotlib.pyplot as plt\n",
    "import seaborn as sns\n",
    "\n",
    "sys.path.append(\"scripts\")\n",
    "from scripts.steam_review_dataset import SteamReviewDataset"
   ]
  },
  {
   "cell_type": "code",
   "execution_count": 95,
   "metadata": {},
   "outputs": [
    {
     "name": "stdout",
     "output_type": "stream",
     "text": [
      "Using cuda device\n"
     ]
    }
   ],
   "source": [
    "device = torch.device(\n",
    "    \"cuda\"\n",
    "    if torch.cuda.is_available()\n",
    "    else \"mps\" if torch.backends.mps.is_available() else \"cpu\"\n",
    ")\n",
    "print(f\"Using {device} device\")"
   ]
  },
  {
   "cell_type": "code",
   "execution_count": 96,
   "metadata": {},
   "outputs": [],
   "source": [
    "seed = 1234\n",
    "\n",
    "np.random.seed(seed)\n",
    "torch.manual_seed(seed)\n",
    "torch.cuda.manual_seed(seed)\n",
    "torch.backends.cudnn.deterministic = True"
   ]
  },
  {
   "cell_type": "code",
   "execution_count": 97,
   "metadata": {},
   "outputs": [
    {
     "name": "stdout",
     "output_type": "stream",
     "text": [
      "Train size: 56742\n",
      "Validation size: 18914\n",
      "Test size: 18915\n"
     ]
    }
   ],
   "source": [
    "# Lade die Daten\n",
    "df = pd.read_csv(\"../data/reviews_100k.csv.bz2\")\n",
    "\n",
    "# Aufteilen in Train+Validation und Test (80/20 Split)\n",
    "train_val_df, test_df = train_test_split(\n",
    "    df, test_size=0.2, random_state=42, stratify=df[\"voted_up\"]\n",
    ")\n",
    "\n",
    "# Aufteilen von Train+Validation in Training und Validation (75/25 von Train+Val)\n",
    "train_df, val_df = train_test_split(\n",
    "    train_val_df, test_size=0.25, random_state=42, stratify=train_val_df[\"voted_up\"]\n",
    ")\n",
    "\n",
    "# Überprüfe die Größe der Splits\n",
    "print(f\"Train size: {len(train_df)}\")\n",
    "print(f\"Validation size: {len(val_df)}\")\n",
    "print(f\"Test size: {len(test_df)}\")"
   ]
  },
  {
   "cell_type": "code",
   "execution_count": 98,
   "metadata": {},
   "outputs": [
    {
     "name": "stdout",
     "output_type": "stream",
     "text": [
      "Tokens shape: torch.Size([32, 200]), Labels shape: torch.Size([32])\n",
      "(tensor([ 286,   62,    5,   84,  313,   22,  122,   39,    7,  291,  345,  372,\n",
      "           4,  359,  778,  178,   60,    6,   38,   11,  173,   90,   11,  135,\n",
      "           5,  419,   94,    9,  167,   39,  830,   94,  116,  116,  658,  481,\n",
      "          12,    5,   16,    9,  306,   57, 1150,   18,   59,  150,  139,  424,\n",
      "         133,  279,  276,   10,  131,    7,   55,  205,  614, 1284,  174,    8,\n",
      "           5,  504, 1867,  118, 1624,   57,    7,    9,  559,  952, 2504,   24,\n",
      "          17,   20,    0,    0,    0,    0,    0,    0,    0,    0,    0,    0,\n",
      "           0,    0,    0,    0,    0,    0,    0,    0,    0,    0,    0,    0,\n",
      "           0,    0,    0,    0,    0,    0,    0,    0,    0,    0,    0,    0,\n",
      "           0,    0,    0,    0,    0,    0,    0,    0,    0,    0,    0,    0,\n",
      "           0,    0,    0,    0,    0,    0,    0,    0,    0,    0,    0,    0,\n",
      "           0,    0,    0,    0,    0,    0,    0,    0,    0,    0,    0,    0,\n",
      "           0,    0,    0,    0,    0,    0,    0,    0,    0,    0,    0,    0,\n",
      "           0,    0,    0,    0,    0,    0,    0,    0,    0,    0,    0,    0,\n",
      "           0,    0,    0,    0,    0,    0,    0,    0,    0,    0,    0,    0,\n",
      "           0,    0,    0,    0,    0,    0,    0,    0,    0,    0,    0,    0,\n",
      "           0,    0,    0,    0,    0,    0,    0,    0]), tensor(0.))\n"
     ]
    }
   ],
   "source": [
    "# Erstelle Dataset-Objekte\n",
    "tokenizer = spm.SentencePieceProcessor(model_file=\"../data/reviews_unigram.model\")\n",
    "max_len = 200  # 91% der Reviews haben weniger als 200 Tokens\n",
    "batch_size = 32\n",
    "\n",
    "train_dataset = SteamReviewDataset(data=train_df, tokenizer=tokenizer, max_len=max_len)\n",
    "val_dataset = SteamReviewDataset(data=val_df, tokenizer=tokenizer, max_len=max_len)\n",
    "test_dataset = SteamReviewDataset(data=test_df, tokenizer=tokenizer, max_len=max_len)\n",
    "\n",
    "# Erstelle DataLoader für jeden Split\n",
    "train_loader = DataLoader(train_dataset, batch_size=batch_size, shuffle=True)\n",
    "val_loader = DataLoader(val_dataset, batch_size=batch_size, shuffle=False)\n",
    "test_loader = DataLoader(test_dataset, batch_size=batch_size, shuffle=False)\n",
    "\n",
    "# Batch Shape\n",
    "for tokens, labels in train_loader:\n",
    "    print(f\"Tokens shape: {tokens.shape}, Labels shape: {labels.shape}\")\n",
    "    break\n",
    "\n",
    "print(train_dataset[0])"
   ]
  },
  {
   "cell_type": "code",
   "execution_count": 99,
   "metadata": {},
   "outputs": [],
   "source": [
    "class GRUClassifier(nn.Module):\n",
    "    def __init__(\n",
    "        self,\n",
    "        vocab_size: int,\n",
    "        embedding_dim: int,\n",
    "        gru_layers: int,\n",
    "        hidden_dim: int,\n",
    "        dropout: float,\n",
    "        output_dim: int,\n",
    "        pad_idx: int,\n",
    "    ):\n",
    "        super(GRUClassifier, self).__init__()\n",
    "        self.embedding = nn.Embedding(vocab_size, embedding_dim, padding_idx=pad_idx)\n",
    "        self.gru = nn.GRU(\n",
    "            input_size=embedding_dim,\n",
    "            num_layers=gru_layers,\n",
    "            hidden_size=hidden_dim,\n",
    "            dropout=dropout,\n",
    "            batch_first=True,\n",
    "        )\n",
    "        self.fc = nn.Linear(hidden_dim, output_dim)\n",
    "        self.sigmoid = nn.Sigmoid()\n",
    "\n",
    "    def forward(self, x):\n",
    "        # x: (batch_size, seq_length)\n",
    "\n",
    "        embedded = self.embedding(x)  # (batch_size, seq_length, embedding_dim)\n",
    "\n",
    "        gru_out, _ = self.gru(embedded)  # hidden: (1, batch_size, hidden_dim)\n",
    "\n",
    "        last_hidden_state = gru_out[:, -1, :]  # Nehme den letzten versteckten Zustand\n",
    "\n",
    "        output = self.fc(last_hidden_state)  # (batch_size, output_dim)\n",
    "\n",
    "        output = self.sigmoid(output)\n",
    "        return output"
   ]
  },
  {
   "cell_type": "code",
   "execution_count": 100,
   "metadata": {},
   "outputs": [],
   "source": [
    "def train_model(\n",
    "    model: GRUClassifier,\n",
    "    train_loader: DataLoader,\n",
    "    val_loader: DataLoader,\n",
    "    epochs: int,\n",
    "    lr: float,\n",
    "    device=torch.device(\"cpu\"),\n",
    "):\n",
    "    # Loss und Optimizer definieren\n",
    "    criterion = nn.BCEWithLogitsLoss()\n",
    "    optimizer = optim.Adam(model.parameters(), lr=lr)\n",
    "\n",
    "    model.to(device)\n",
    "\n",
    "    print(f\"Start training on device '{device}'\")\n",
    "\n",
    "    # Early Stopping Parameter\n",
    "    patience = 5\n",
    "    patience_counter = 0\n",
    "    best_val_accuracy = 0.0\n",
    "    best_model_state = None\n",
    "    last_epoch = 0\n",
    "\n",
    "    # Listen für Visualisierung\n",
    "    train_losses, val_losses = [], []\n",
    "    train_accuracies, val_accuracies = [], []\n",
    "\n",
    "    # Training und Validation Loop\n",
    "    for epoch in range(epochs):\n",
    "        model.train()\n",
    "        running_loss = 0.0\n",
    "        train_labels = []\n",
    "        train_preds = []\n",
    "\n",
    "        train_progress = tqdm(\n",
    "            train_loader, desc=f\"Epoch [{epoch+1}/{epochs}]\", ncols=100\n",
    "        )\n",
    "\n",
    "        epoch_start_time = time.time()  # Startzeit für die Epoche\n",
    "\n",
    "        # Trainingsloop\n",
    "        for batch in train_progress:\n",
    "            tokens, labels = batch\n",
    "            tokens, labels = tokens.to(device), labels.to(device)\n",
    "\n",
    "            # Forward Pass\n",
    "            optimizer.zero_grad()\n",
    "            outputs = model(tokens)\n",
    "            loss = criterion(outputs.squeeze(), labels)\n",
    "\n",
    "            # Backward Pass und Optimierung\n",
    "            loss.backward()\n",
    "            optimizer.step()\n",
    "\n",
    "            running_loss += loss.item()\n",
    "\n",
    "            # Berechne Predictions und füge sie zur Liste hinzu\n",
    "            train_preds += (outputs.squeeze() > 0.5).cpu().numpy().tolist()\n",
    "            train_labels += labels.cpu().numpy().tolist()\n",
    "\n",
    "            # Update TQDM mit dem aktuellen Loss\n",
    "            train_progress.set_postfix(\n",
    "                loss=f\"{running_loss / (train_progress.n + 1):.3f}\"\n",
    "            )\n",
    "\n",
    "        # Berechne Trainings-Accuracy\n",
    "        train_accuracy = accuracy_score(train_labels, train_preds)\n",
    "        train_losses.append(running_loss / len(train_loader))\n",
    "        train_accuracies.append(train_accuracy)\n",
    "\n",
    "        # Validierung\n",
    "        model.eval()\n",
    "        val_loss = 0.0\n",
    "        val_labels = []\n",
    "        val_preds = []\n",
    "\n",
    "        with torch.no_grad():\n",
    "            for batch in val_loader:\n",
    "                tokens, labels = batch\n",
    "                tokens, labels = tokens.to(device), labels.to(device)\n",
    "\n",
    "                outputs = model(tokens)\n",
    "                loss = criterion(outputs.squeeze(), labels)\n",
    "                val_loss += loss.item()\n",
    "\n",
    "                val_preds += (outputs.squeeze() > 0.5).cpu().numpy().tolist()\n",
    "                val_labels += labels.cpu().numpy().tolist()\n",
    "\n",
    "        # Berechne Validierungs-Accuracy\n",
    "        val_accuracy = accuracy_score(val_labels, val_preds)\n",
    "        val_losses.append(val_loss / len(val_loader))\n",
    "        val_accuracies.append(val_accuracy)\n",
    "\n",
    "        epoch_end_time = time.time()\n",
    "        epoch_duration = epoch_end_time - epoch_start_time\n",
    "        mins, secs = divmod(epoch_duration, 60)\n",
    "\n",
    "        print(\n",
    "            \"├ \"\n",
    "            f\"Train Loss: {running_loss/len(train_loader):.4f}, \"\n",
    "            f\"Train Accuracy: {train_accuracy:.4f}, \"\n",
    "            f\"Validation Loss: {val_loss/len(val_loader):.4f}, \"\n",
    "            f\"Validation Accuracy: {val_accuracy:.4f}, \"\n",
    "            f\"Time: {int(mins):2}:{secs:.2f}m\"\n",
    "        )\n",
    "\n",
    "        # Early Stopping Überprüfung\n",
    "        if val_accuracy > best_val_accuracy:\n",
    "            print(\n",
    "                f\"└ Validation accuracy improved: {best_val_accuracy:.4f} → {val_accuracy:.4f}\"\n",
    "            )\n",
    "            best_val_accuracy = val_accuracy\n",
    "            patience_counter = 0\n",
    "            best_model_state = model.state_dict()  # Speichere das beste Modell\n",
    "            last_epoch = epoch\n",
    "        else:\n",
    "            patience_counter += 1\n",
    "            print(\n",
    "                f\"└ No improvement in validation accuracy. \"\n",
    "                f\"Patience counter: {patience_counter}/{patience}\",\n",
    "            )\n",
    "            # Überprüfe, ob Early Stopping ausgelöst werden soll\n",
    "            if patience_counter >= patience:\n",
    "                print(\n",
    "                    \"Early stopping triggered! \"\n",
    "                    \"Best Validation Accuracy: {best_val_accuracy:.2f}, on epoch {last_epoch}\"\n",
    "                )\n",
    "                break\n",
    "\n",
    "    # Lade das beste Modell zurück, falls Early Stopping ausgelöst wurde\n",
    "    if best_model_state is not None:\n",
    "        model.load_state_dict(best_model_state)\n",
    "\n",
    "    print(\n",
    "        f\"Finished Training: Best Validation Accuracy: {best_val_accuracy:.2f}, on epoch {last_epoch}\"\n",
    "    )\n",
    "\n",
    "    return model, train_losses, val_losses, train_accuracies, val_accuracies"
   ]
  },
  {
   "cell_type": "code",
   "execution_count": 101,
   "metadata": {},
   "outputs": [
    {
     "name": "stdout",
     "output_type": "stream",
     "text": [
      "GRUClassifier(\n",
      "  (embedding): Embedding(4000, 512, padding_idx=0)\n",
      "  (gru): GRU(512, 1024, num_layers=2, batch_first=True, dropout=0.5)\n",
      "  (fc): Linear(in_features=1024, out_features=1, bias=True)\n",
      "  (sigmoid): Sigmoid()\n",
      ")\n"
     ]
    }
   ],
   "source": [
    "# Lade den Tokenizer, um `vocab_size` und `pad_id` zu erhalten\n",
    "tokenizer = spm.SentencePieceProcessor(model_file=\"../data/reviews_unigram.model\")\n",
    "vocab_size = tokenizer.get_piece_size()\n",
    "pad_idx = tokenizer.pad_id()\n",
    "\n",
    "# Modellparameter\n",
    "embedding_dim = 512\n",
    "gru_layers = 2\n",
    "hidden_dim = 1024\n",
    "output_dim = 1\n",
    "dropout = 0.5\n",
    "\n",
    "# Initialisiere das GRU-Modell\n",
    "model = GRUClassifier(\n",
    "    vocab_size=vocab_size,\n",
    "    embedding_dim=embedding_dim,\n",
    "    gru_layers=gru_layers,\n",
    "    hidden_dim=hidden_dim,\n",
    "    dropout=dropout,\n",
    "    output_dim=output_dim,\n",
    "    pad_idx=pad_idx,\n",
    ")\n",
    "print(model)"
   ]
  },
  {
   "cell_type": "code",
   "execution_count": 102,
   "metadata": {},
   "outputs": [
    {
     "name": "stdout",
     "output_type": "stream",
     "text": [
      "Start training on device 'cuda'\n"
     ]
    },
    {
     "name": "stderr",
     "output_type": "stream",
     "text": [
      "Epoch [1/100]: 100%|████████████████████████████████| 1774/1774 [01:59<00:00, 14.79it/s, loss=0.631]\n"
     ]
    },
    {
     "name": "stdout",
     "output_type": "stream",
     "text": [
      "├ Train Loss: 0.6305, Train Accuracy: 0.6756, Validation Loss: 0.6184, Validation Accuracy: 0.6813, Time:  2:16.95m\n",
      "└ Validation accuracy improved: 0.0000 → 0.6813\n"
     ]
    },
    {
     "name": "stderr",
     "output_type": "stream",
     "text": [
      "Epoch [2/100]: 100%|████████████████████████████████| 1774/1774 [02:00<00:00, 14.69it/s, loss=0.598]\n"
     ]
    },
    {
     "name": "stdout",
     "output_type": "stream",
     "text": [
      "├ Train Loss: 0.5972, Train Accuracy: 0.6745, Validation Loss: 0.5779, Validation Accuracy: 0.6723, Time:  2:17.82m\n",
      "└ No improvement in validation accuracy. Patience counter: 1/5\n"
     ]
    },
    {
     "name": "stderr",
     "output_type": "stream",
     "text": [
      "Epoch [3/100]: 100%|████████████████████████████████| 1774/1774 [02:01<00:00, 14.58it/s, loss=0.577]\n"
     ]
    },
    {
     "name": "stdout",
     "output_type": "stream",
     "text": [
      "├ Train Loss: 0.5763, Train Accuracy: 0.6896, Validation Loss: 0.5531, Validation Accuracy: 0.7240, Time:  2:18.62m\n",
      "└ Validation accuracy improved: 0.6813 → 0.7240\n"
     ]
    },
    {
     "name": "stderr",
     "output_type": "stream",
     "text": [
      "Epoch [4/100]: 100%|████████████████████████████████| 1774/1774 [02:01<00:00, 14.65it/s, loss=0.555]\n"
     ]
    },
    {
     "name": "stdout",
     "output_type": "stream",
     "text": [
      "├ Train Loss: 0.5550, Train Accuracy: 0.7362, Validation Loss: 0.5348, Validation Accuracy: 0.7663, Time:  2:17.96m\n",
      "└ Validation accuracy improved: 0.7240 → 0.7663\n"
     ]
    },
    {
     "name": "stderr",
     "output_type": "stream",
     "text": [
      "Epoch [5/100]: 100%|████████████████████████████████| 1774/1774 [02:00<00:00, 14.76it/s, loss=0.517]\n"
     ]
    },
    {
     "name": "stdout",
     "output_type": "stream",
     "text": [
      "├ Train Loss: 0.5168, Train Accuracy: 0.8259, Validation Loss: 0.5091, Validation Accuracy: 0.8221, Time:  2:17.05m\n",
      "└ Validation accuracy improved: 0.7663 → 0.8221\n"
     ]
    },
    {
     "name": "stderr",
     "output_type": "stream",
     "text": [
      "Epoch [6/100]: 100%|████████████████████████████████| 1774/1774 [02:00<00:00, 14.77it/s, loss=0.501]\n"
     ]
    },
    {
     "name": "stdout",
     "output_type": "stream",
     "text": [
      "├ Train Loss: 0.5005, Train Accuracy: 0.8607, Validation Loss: 0.4958, Validation Accuracy: 0.8634, Time:  2:16.94m\n",
      "└ Validation accuracy improved: 0.8221 → 0.8634\n"
     ]
    },
    {
     "name": "stderr",
     "output_type": "stream",
     "text": [
      "Epoch [7/100]: 100%|████████████████████████████████| 1774/1774 [02:00<00:00, 14.77it/s, loss=0.494]\n"
     ]
    },
    {
     "name": "stdout",
     "output_type": "stream",
     "text": [
      "├ Train Loss: 0.4936, Train Accuracy: 0.8755, Validation Loss: 0.4900, Validation Accuracy: 0.8783, Time:  2:17.07m\n",
      "└ Validation accuracy improved: 0.8634 → 0.8783\n"
     ]
    },
    {
     "name": "stderr",
     "output_type": "stream",
     "text": [
      "Epoch [8/100]: 100%|████████████████████████████████| 1774/1774 [02:01<00:00, 14.65it/s, loss=0.488]\n"
     ]
    },
    {
     "name": "stdout",
     "output_type": "stream",
     "text": [
      "├ Train Loss: 0.4876, Train Accuracy: 0.8867, Validation Loss: 0.4876, Validation Accuracy: 0.8816, Time:  2:18.06m\n",
      "└ Validation accuracy improved: 0.8783 → 0.8816\n"
     ]
    },
    {
     "name": "stderr",
     "output_type": "stream",
     "text": [
      "Epoch [9/100]: 100%|████████████████████████████████| 1774/1774 [02:01<00:00, 14.62it/s, loss=0.486]\n"
     ]
    },
    {
     "name": "stdout",
     "output_type": "stream",
     "text": [
      "├ Train Loss: 0.4858, Train Accuracy: 0.8904, Validation Loss: 0.4880, Validation Accuracy: 0.8930, Time:  2:18.32m\n",
      "└ Validation accuracy improved: 0.8816 → 0.8930\n"
     ]
    },
    {
     "name": "stderr",
     "output_type": "stream",
     "text": [
      "Epoch [10/100]: 100%|███████████████████████████████| 1774/1774 [02:00<00:00, 14.69it/s, loss=0.482]\n"
     ]
    },
    {
     "name": "stdout",
     "output_type": "stream",
     "text": [
      "├ Train Loss: 0.4820, Train Accuracy: 0.8979, Validation Loss: 0.4852, Validation Accuracy: 0.8946, Time:  2:17.59m\n",
      "└ Validation accuracy improved: 0.8930 → 0.8946\n"
     ]
    },
    {
     "name": "stderr",
     "output_type": "stream",
     "text": [
      "Epoch [11/100]: 100%|███████████████████████████████| 1774/1774 [02:01<00:00, 14.63it/s, loss=0.477]\n"
     ]
    },
    {
     "name": "stdout",
     "output_type": "stream",
     "text": [
      "├ Train Loss: 0.4771, Train Accuracy: 0.9084, Validation Loss: 0.4877, Validation Accuracy: 0.8977, Time:  2:18.23m\n",
      "└ Validation accuracy improved: 0.8946 → 0.8977\n"
     ]
    },
    {
     "name": "stderr",
     "output_type": "stream",
     "text": [
      "Epoch [12/100]: 100%|███████████████████████████████| 1774/1774 [02:01<00:00, 14.56it/s, loss=0.474]\n"
     ]
    },
    {
     "name": "stdout",
     "output_type": "stream",
     "text": [
      "├ Train Loss: 0.4741, Train Accuracy: 0.9147, Validation Loss: 0.4833, Validation Accuracy: 0.9004, Time:  2:18.96m\n",
      "└ Validation accuracy improved: 0.8977 → 0.9004\n"
     ]
    },
    {
     "name": "stderr",
     "output_type": "stream",
     "text": [
      "Epoch [13/100]: 100%|███████████████████████████████| 1774/1774 [02:01<00:00, 14.60it/s, loss=0.473]\n"
     ]
    },
    {
     "name": "stdout",
     "output_type": "stream",
     "text": [
      "├ Train Loss: 0.4723, Train Accuracy: 0.9187, Validation Loss: 0.4836, Validation Accuracy: 0.9005, Time:  2:18.47m\n",
      "└ Validation accuracy improved: 0.9004 → 0.9005\n"
     ]
    },
    {
     "name": "stderr",
     "output_type": "stream",
     "text": [
      "Epoch [14/100]: 100%|███████████████████████████████| 1774/1774 [02:00<00:00, 14.73it/s, loss=0.470]\n"
     ]
    },
    {
     "name": "stdout",
     "output_type": "stream",
     "text": [
      "├ Train Loss: 0.4698, Train Accuracy: 0.9245, Validation Loss: 0.4821, Validation Accuracy: 0.9004, Time:  2:17.27m\n",
      "└ No improvement in validation accuracy. Patience counter: 1/5\n"
     ]
    },
    {
     "name": "stderr",
     "output_type": "stream",
     "text": [
      "Epoch [15/100]: 100%|███████████████████████████████| 1774/1774 [01:59<00:00, 14.87it/s, loss=0.468]\n"
     ]
    },
    {
     "name": "stdout",
     "output_type": "stream",
     "text": [
      "├ Train Loss: 0.4682, Train Accuracy: 0.9276, Validation Loss: 0.4814, Validation Accuracy: 0.9000, Time:  2:15.97m\n",
      "└ No improvement in validation accuracy. Patience counter: 2/5\n"
     ]
    },
    {
     "name": "stderr",
     "output_type": "stream",
     "text": [
      "Epoch [16/100]: 100%|███████████████████████████████| 1774/1774 [01:59<00:00, 14.89it/s, loss=0.467]\n"
     ]
    },
    {
     "name": "stdout",
     "output_type": "stream",
     "text": [
      "├ Train Loss: 0.4663, Train Accuracy: 0.9316, Validation Loss: 0.4824, Validation Accuracy: 0.9039, Time:  2:16.02m\n",
      "└ Validation accuracy improved: 0.9005 → 0.9039\n"
     ]
    },
    {
     "name": "stderr",
     "output_type": "stream",
     "text": [
      "Epoch [17/100]: 100%|███████████████████████████████| 1774/1774 [02:00<00:00, 14.74it/s, loss=0.465]\n"
     ]
    },
    {
     "name": "stdout",
     "output_type": "stream",
     "text": [
      "├ Train Loss: 0.4647, Train Accuracy: 0.9358, Validation Loss: 0.4821, Validation Accuracy: 0.9043, Time:  2:17.28m\n",
      "└ Validation accuracy improved: 0.9039 → 0.9043\n"
     ]
    },
    {
     "name": "stderr",
     "output_type": "stream",
     "text": [
      "Epoch [18/100]: 100%|███████████████████████████████| 1774/1774 [02:01<00:00, 14.62it/s, loss=0.465]\n"
     ]
    },
    {
     "name": "stdout",
     "output_type": "stream",
     "text": [
      "├ Train Loss: 0.4643, Train Accuracy: 0.9360, Validation Loss: 0.4830, Validation Accuracy: 0.9064, Time:  2:18.40m\n",
      "└ Validation accuracy improved: 0.9043 → 0.9064\n"
     ]
    },
    {
     "name": "stderr",
     "output_type": "stream",
     "text": [
      "Epoch [19/100]: 100%|███████████████████████████████| 1774/1774 [02:02<00:00, 14.54it/s, loss=0.463]\n"
     ]
    },
    {
     "name": "stdout",
     "output_type": "stream",
     "text": [
      "├ Train Loss: 0.4628, Train Accuracy: 0.9395, Validation Loss: 0.4794, Validation Accuracy: 0.9027, Time:  2:18.97m\n",
      "└ No improvement in validation accuracy. Patience counter: 1/5\n"
     ]
    },
    {
     "name": "stderr",
     "output_type": "stream",
     "text": [
      "Epoch [20/100]: 100%|███████████████████████████████| 1774/1774 [02:01<00:00, 14.60it/s, loss=0.463]\n"
     ]
    },
    {
     "name": "stdout",
     "output_type": "stream",
     "text": [
      "├ Train Loss: 0.4625, Train Accuracy: 0.9401, Validation Loss: 0.4794, Validation Accuracy: 0.9071, Time:  2:18.48m\n",
      "└ Validation accuracy improved: 0.9064 → 0.9071\n"
     ]
    },
    {
     "name": "stderr",
     "output_type": "stream",
     "text": [
      "Epoch [21/100]: 100%|███████████████████████████████| 1774/1774 [02:02<00:00, 14.50it/s, loss=0.461]\n"
     ]
    },
    {
     "name": "stdout",
     "output_type": "stream",
     "text": [
      "├ Train Loss: 0.4605, Train Accuracy: 0.9446, Validation Loss: 0.4809, Validation Accuracy: 0.9067, Time:  2:19.47m\n",
      "└ No improvement in validation accuracy. Patience counter: 1/5\n"
     ]
    },
    {
     "name": "stderr",
     "output_type": "stream",
     "text": [
      "Epoch [22/100]: 100%|███████████████████████████████| 1774/1774 [02:01<00:00, 14.58it/s, loss=0.461]\n"
     ]
    },
    {
     "name": "stdout",
     "output_type": "stream",
     "text": [
      "├ Train Loss: 0.4608, Train Accuracy: 0.9434, Validation Loss: 0.4790, Validation Accuracy: 0.9055, Time:  2:18.57m\n",
      "└ No improvement in validation accuracy. Patience counter: 2/5\n"
     ]
    },
    {
     "name": "stderr",
     "output_type": "stream",
     "text": [
      "Epoch [23/100]: 100%|███████████████████████████████| 1774/1774 [02:00<00:00, 14.72it/s, loss=0.459]\n"
     ]
    },
    {
     "name": "stdout",
     "output_type": "stream",
     "text": [
      "├ Train Loss: 0.4584, Train Accuracy: 0.9493, Validation Loss: 0.4787, Validation Accuracy: 0.9067, Time:  2:17.36m\n",
      "└ No improvement in validation accuracy. Patience counter: 3/5\n"
     ]
    },
    {
     "name": "stderr",
     "output_type": "stream",
     "text": [
      "Epoch [24/100]: 100%|███████████████████████████████| 1774/1774 [02:00<00:00, 14.78it/s, loss=0.459]\n"
     ]
    },
    {
     "name": "stdout",
     "output_type": "stream",
     "text": [
      "├ Train Loss: 0.4583, Train Accuracy: 0.9492, Validation Loss: 0.4808, Validation Accuracy: 0.9058, Time:  2:16.97m\n",
      "└ No improvement in validation accuracy. Patience counter: 4/5\n"
     ]
    },
    {
     "name": "stderr",
     "output_type": "stream",
     "text": [
      "Epoch [25/100]: 100%|███████████████████████████████| 1774/1774 [01:59<00:00, 14.84it/s, loss=0.458]\n"
     ]
    },
    {
     "name": "stdout",
     "output_type": "stream",
     "text": [
      "├ Train Loss: 0.4576, Train Accuracy: 0.9504, Validation Loss: 0.4800, Validation Accuracy: 0.9045, Time:  2:16.39m\n",
      "└ No improvement in validation accuracy. Patience counter: 5/5\n",
      "Early stopping triggered! Best Validation Accuracy: {best_val_accuracy:.2f}, on epoch {last_epoch}\n",
      "Finished Training: Best Validation Accuracy: 0.91, on epoch 19\n"
     ]
    }
   ],
   "source": [
    "# Trainiere das Modell\n",
    "epochs = 100\n",
    "lr = 0.0001\n",
    "\n",
    "trained_model, train_losses, val_losses, train_accuracies, val_accuracies = train_model(\n",
    "    model=model,\n",
    "    train_loader=train_loader,\n",
    "    val_loader=val_loader,\n",
    "    epochs=epochs,\n",
    "    lr=lr,\n",
    "    device=device,\n",
    ")"
   ]
  },
  {
   "cell_type": "code",
   "execution_count": 103,
   "metadata": {},
   "outputs": [
    {
     "data": {
      "image/png": "[encoded data removed]",
      "text/plain": [
       "<Figure size 1200x600 with 2 Axes>"
      ]
     },
     "metadata": {},
     "output_type": "display_data"
    }
   ],
   "source": [
    "def plot_results(train_losses, val_losses, train_accuracies, val_accuracies):\n",
    "    # Loss Plot\n",
    "    plt.figure(figsize=(12, 6))\n",
    "    plt.subplot(1, 2, 1)\n",
    "    plt.plot(train_losses, label=\"Train Loss\")\n",
    "    plt.plot(val_losses, label=\"Validation Loss\")\n",
    "    plt.xlabel(\"Epochs\")\n",
    "    plt.ylabel(\"Loss\")\n",
    "    plt.title(\"Loss Over Epochs\")\n",
    "    plt.legend()\n",
    "\n",
    "    # Accuracy Plot\n",
    "    plt.subplot(1, 2, 2)\n",
    "    plt.plot(train_accuracies, label=\"Train Accuracy\")\n",
    "    plt.plot(val_accuracies, label=\"Validation Accuracy\")\n",
    "    plt.xlabel(\"Epochs\")\n",
    "    plt.ylabel(\"Accuracy\")\n",
    "    plt.title(\"Accuracy Over Epochs\")\n",
    "    plt.legend()\n",
    "\n",
    "    # Anzeigen\n",
    "    plt.tight_layout()\n",
    "    plt.show()\n",
    "\n",
    "\n",
    "plot_results(train_losses, val_losses, train_accuracies, val_accuracies)"
   ]
  },
  {
   "cell_type": "code",
   "execution_count": 104,
   "metadata": {},
   "outputs": [
    {
     "name": "stdout",
     "output_type": "stream",
     "text": [
      "Test Loss: 0.4793\n",
      "Test Accuracy: 0.9059\n",
      "Test Precision: 0.9401\n",
      "Test Recall: 0.9208\n",
      "Test F1-Score: 0.9303\n"
     ]
    }
   ],
   "source": [
    "# Funktion zum Testen des Modells mit zusätzlichen Metriken\n",
    "def evaluate_model(model, test_loader):\n",
    "    model.eval()  # Setze das Modell in den Eval-Modus\n",
    "    test_loss = 0.0\n",
    "    test_labels = []\n",
    "    test_preds = []\n",
    "\n",
    "    criterion = nn.BCEWithLogitsLoss()\n",
    "\n",
    "    with torch.no_grad():  # Keine Gradientenberechnung für Test\n",
    "        for batch in test_loader:\n",
    "            tokens, labels = batch\n",
    "            tokens, labels = tokens.to(device), labels.to(device)\n",
    "\n",
    "            # Forward Pass\n",
    "            outputs = model(tokens)\n",
    "            loss = criterion(outputs.squeeze(), labels)\n",
    "            test_loss += loss.item()\n",
    "\n",
    "            # Berechne Vorhersagen und füge sie zur Liste hinzu\n",
    "            test_preds += (outputs.squeeze() > 0.5).cpu().numpy().tolist()\n",
    "            test_labels += labels.cpu().numpy().tolist()\n",
    "\n",
    "    # Berechne Metriken\n",
    "    test_accuracy = accuracy_score(test_labels, test_preds)\n",
    "    test_precision = precision_score(test_labels, test_preds)\n",
    "    test_recall = recall_score(test_labels, test_preds)\n",
    "    test_f1 = f1_score(test_labels, test_preds)\n",
    "\n",
    "    # Ausgabe der Metriken\n",
    "    print(f\"Test Loss: {test_loss/len(test_loader):.4f}\")\n",
    "    print(f\"Test Accuracy: {test_accuracy:.4f}\")\n",
    "    print(f\"Test Precision: {test_precision:.4f}\")\n",
    "    print(f\"Test Recall: {test_recall:.4f}\")\n",
    "    print(f\"Test F1-Score: {test_f1:.4f}\")\n",
    "\n",
    "\n",
    "# Teste das Modell\n",
    "evaluate_model(model, test_loader)"
   ]
  },
  {
   "cell_type": "markdown",
   "metadata": {},
   "source": [
    "### Results\n",
    "\n",
    "**Hardware Specs:**\n",
    "- CPU: AMD Ryzen 7 3700X 8-Core\n",
    "- GPU: Nvidia GeForce RTX 3060 Ti\n",
    "- RAM: 48GB\n",
    "- OS: Linux Mint 22.1\n",
    "\n",
    "**Training Resuilts**\n",
    "\n",
    "| Device | VocabSize | GRU_Layers | HiddenDim | Dropout | EmbeddingDim | Epoch | LR     | time/Epoch | TestAcc    | TestF1     |\n",
    "| ------ | --------: | ---------: | --------: | ------: | -----------: | ----: | :----- | ---------- | ---------- | ---------- |\n",
    "| CPU    |     8.000 |          1 |       256 |       0 |          128 |     5 | 0.001  | 03:41      | ?          | ?          |\n",
    "| Cuda   |     8.000 |          1 |       256 |       0 |          128 |     5 | 0.001  | 00:27      | 0.8486     | 0.8797     |\n",
    "| Cuda   |    17.000 |          1 |       256 |       0 |          512 |     5 | 0.001  | 00:29      | 0.8781     | 0.9063     |\n",
    "| Cuda   |     4.000 |          1 |       256 |       0 |          512 |    10 | 0.001  | 00:29      | 0.8897     | 0.9175     |\n",
    "| Cuda   |    17.000 |          1 |       256 |       0 |          512 |     5 | 0.0001 | 00:29      | 0.8929     | 0.9190     |\n",
    "| Cuda   |     4.000 |          1 |      1024 |       0 |          512 |     7 | 0.001  | 01:17      | 0.9022     | 0.9275     |\n",
    "| Cuda   |     4.000 |          1 |       256 |       0 |          128 |    15 | 0.001  | 00:28      | 0.9036     | 0.9284     |\n",
    "| Cuda   |     4.000 |          2 |       256 |     0.3 |          128 |     8 | 0.001  | 00:37      | 0.8875     | 0.9151     |\n",
    "| Cuda   |     4.000 |          2 |       512 |     0.3 |          128 |     8 | 0.001  | 00:55      | 0.8915     | 0.9210     |\n",
    "| Cuda   |     4.000 |          2 |       512 |     0.3 |          256 |     9 | 0.001  | 00:56      | 0.8992     | 0.9260     |\n",
    "| Cuda   |     4.000 |          2 |      1024 |     0.5 |          256 |     3 | 0.001  | 02:13      | 0.8542     | 0.8855     |\n",
    "| Cuda   |     4.000 |          2 |      1024 |     0.5 |          512 |    19 | 0.0001 | 02:18      | **0.9059** | **0.9303** |"
   ]
  }
 ],
 "metadata": {
  "kernelspec": {
   "display_name": ".venv",
   "language": "python",
   "name": "python3"
  },
  "language_info": {
   "codemirror_mode": {
    "name": "ipython",
    "version": 3
   },
   "file_extension": ".py",
   "mimetype": "text/x-python",
   "name": "python",
   "nbconvert_exporter": "python",
   "pygments_lexer": "ipython3",
   "version": "3.12.3"
  }
 },
 "nbformat": 4,
 "nbformat_minor": 2
}
