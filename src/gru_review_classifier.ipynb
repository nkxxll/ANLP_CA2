{
 "cells": [
  {
   "cell_type": "markdown",
   "metadata": {},
   "source": [
    "# GRU Classifier"
   ]
  },
  {
   "cell_type": "code",
   "execution_count": 1,
   "metadata": {},
   "outputs": [],
   "source": [
    "%load_ext autoreload\n",
    "%autoreload 2"
   ]
  },
  {
   "cell_type": "code",
   "execution_count": 2,
   "metadata": {},
   "outputs": [],
   "source": [
    "import sys\n",
    "import time\n",
    "\n",
    "import numpy as np\n",
    "import pandas as pd\n",
    "import torch\n",
    "import torch.nn as nn\n",
    "import torch.optim as optim\n",
    "from torch.utils.data import DataLoader\n",
    "import sentencepiece as spm\n",
    "from sklearn.model_selection import train_test_split\n",
    "from sklearn.metrics import accuracy_score, confusion_matrix, precision_score, recall_score, f1_score\n",
    "from tqdm import tqdm\n",
    "import matplotlib.pyplot as plt\n",
    "import seaborn as sns\n",
    "\n",
    "sys.path.append(\"scripts\")\n",
    "from scripts.steam_review_dataset import SteamReviewDataset"
   ]
  },
  {
   "cell_type": "code",
   "execution_count": 3,
   "metadata": {},
   "outputs": [
    {
     "name": "stdout",
     "output_type": "stream",
     "text": [
      "Using cuda device\n"
     ]
    }
   ],
   "source": [
    "device = torch.device(\n",
    "    \"cuda\"\n",
    "    if torch.cuda.is_available()\n",
    "    else \"mps\"\n",
    "    if torch.backends.mps.is_available()\n",
    "    else \"cpu\"\n",
    ")\n",
    "print(f\"Using {device} device\")"
   ]
  },
  {
   "cell_type": "code",
   "execution_count": 4,
   "metadata": {},
   "outputs": [],
   "source": [
    "seed = 1234\n",
    "\n",
    "np.random.seed(seed)\n",
    "torch.manual_seed(seed)\n",
    "torch.cuda.manual_seed(seed)\n",
    "torch.backends.cudnn.deterministic = True"
   ]
  },
  {
   "cell_type": "code",
   "execution_count": 5,
   "metadata": {},
   "outputs": [
    {
     "name": "stdout",
     "output_type": "stream",
     "text": [
      "Train size: 56742\n",
      "Validation size: 18914\n",
      "Test size: 18915\n"
     ]
    }
   ],
   "source": [
    "# Lade die Daten\n",
    "df = pd.read_csv(\"../data/reviews_100k.csv.bz2\")\n",
    "\n",
    "# Aufteilen in Train+Validation und Test (80/20 Split)\n",
    "train_val_df, test_df = train_test_split(df, test_size=0.2, random_state=42, stratify=df[\"voted_up\"])\n",
    "\n",
    "# Aufteilen von Train+Validation in Training und Validation (75/25 von Train+Val)\n",
    "train_df, val_df = train_test_split(train_val_df, test_size=0.25, random_state=42, stratify=train_val_df[\"voted_up\"])\n",
    "\n",
    "# Überprüfe die Größe der Splits\n",
    "print(f\"Train size: {len(train_df)}\")\n",
    "print(f\"Validation size: {len(val_df)}\")\n",
    "print(f\"Test size: {len(test_df)}\")\n"
   ]
  },
  {
   "cell_type": "code",
   "execution_count": 6,
   "metadata": {},
   "outputs": [
    {
     "name": "stdout",
     "output_type": "stream",
     "text": [
      "Tokens shape: torch.Size([32, 200]), Labels shape: torch.Size([32])\n",
      "(tensor([ 620,   65,    4,   84,  272,   22,  121,   39,    8,  256,  300,  342,\n",
      "           5,  345,  701,  170,   63,    6,   38,   11,  163,   91,   11,  123,\n",
      "           4,  373,   92,    9,  162,   39,  815,   92,  111,  111,  579,  441,\n",
      "          12,    4,   17,    9,  274,   98, 1048,   18,   58,  147,  135,  397,\n",
      "         131,  249,  244,   10,  129,    8,   55,  190,  552, 1108,  169,    7,\n",
      "           4,  470, 1875,  168, 1415,   98,    8, 2720,  813, 2208,   23,   16,\n",
      "          20,    0,    0,    0,    0,    0,    0,    0,    0,    0,    0,    0,\n",
      "           0,    0,    0,    0,    0,    0,    0,    0,    0,    0,    0,    0,\n",
      "           0,    0,    0,    0,    0,    0,    0,    0,    0,    0,    0,    0,\n",
      "           0,    0,    0,    0,    0,    0,    0,    0,    0,    0,    0,    0,\n",
      "           0,    0,    0,    0,    0,    0,    0,    0,    0,    0,    0,    0,\n",
      "           0,    0,    0,    0,    0,    0,    0,    0,    0,    0,    0,    0,\n",
      "           0,    0,    0,    0,    0,    0,    0,    0,    0,    0,    0,    0,\n",
      "           0,    0,    0,    0,    0,    0,    0,    0,    0,    0,    0,    0,\n",
      "           0,    0,    0,    0,    0,    0,    0,    0,    0,    0,    0,    0,\n",
      "           0,    0,    0,    0,    0,    0,    0,    0,    0,    0,    0,    0,\n",
      "           0,    0,    0,    0,    0,    0,    0,    0]), tensor(0.))\n"
     ]
    }
   ],
   "source": [
    "# Erstelle Dataset-Objekte\n",
    "tokenizer = spm.SentencePieceProcessor(model_file=\"../data/reviews_unigram.model\")\n",
    "max_len = 200\n",
    "\n",
    "train_dataset = SteamReviewDataset(data=train_df, tokenizer=tokenizer, max_len=max_len)\n",
    "val_dataset = SteamReviewDataset(data=val_df, tokenizer=tokenizer, max_len=max_len)\n",
    "test_dataset = SteamReviewDataset(data=test_df, tokenizer=tokenizer, max_len=max_len)\n",
    "\n",
    "# Erstelle DataLoader für jeden Split\n",
    "train_loader = DataLoader(train_dataset, batch_size=32, shuffle=True)\n",
    "val_loader = DataLoader(val_dataset, batch_size=32, shuffle=False)\n",
    "test_loader = DataLoader(test_dataset, batch_size=32, shuffle=False)\n",
    "\n",
    "# Batch Shape\n",
    "for tokens, labels in train_loader:\n",
    "    print(f\"Tokens shape: {tokens.shape}, Labels shape: {labels.shape}\")\n",
    "    break\n",
    "\n",
    "print(train_dataset[0])\n"
   ]
  },
  {
   "cell_type": "code",
   "execution_count": 7,
   "metadata": {},
   "outputs": [],
   "source": [
    "class GRUClassifier(nn.Module):\n",
    "    def __init__(self, vocab_size, embedding_dim, hidden_dim, output_dim, pad_idx):\n",
    "        super(GRUClassifier, self).__init__()\n",
    "        self.embedding = nn.Embedding(vocab_size+1, embedding_dim, padding_idx=pad_idx)\n",
    "        self.gru = nn.GRU(embedding_dim, hidden_dim, batch_first=True)\n",
    "        self.fc = nn.Linear(hidden_dim, output_dim)\n",
    "        self.sigmoid = nn.Sigmoid()\n",
    "\n",
    "    def forward(self, x):\n",
    "        # x: (batch_size, seq_length)\n",
    "        \n",
    "        embedded = self.embedding(x)  # (batch_size, seq_length, embedding_dim)\n",
    "\n",
    "        _, hidden = self.gru(embedded)  # hidden: (1, batch_size, hidden_dim)\n",
    "\n",
    "        output = self.fc(hidden.squeeze(0))  # (batch_size, output_dim)\n",
    "\n",
    "        output = self.sigmoid(output)\n",
    "        return output"
   ]
  },
  {
   "cell_type": "code",
   "execution_count": 8,
   "metadata": {},
   "outputs": [
    {
     "name": "stdout",
     "output_type": "stream",
     "text": [
      "GRUClassifier(\n",
      "  (embedding): Embedding(8001, 128, padding_idx=0)\n",
      "  (gru): GRU(128, 256, batch_first=True)\n",
      "  (fc): Linear(in_features=256, out_features=1, bias=True)\n",
      "  (sigmoid): Sigmoid()\n",
      ")\n"
     ]
    }
   ],
   "source": [
    "# Lade den Tokenizer, um `vocab_size` und `pad_id` zu erhalten\n",
    "tokenizer = spm.SentencePieceProcessor(model_file=\"../data/reviews_unigram.model\")\n",
    "vocab_size = tokenizer.get_piece_size()\n",
    "pad_idx = tokenizer.pad_id()\n",
    "\n",
    "# Modellparameter\n",
    "embedding_dim = 128\n",
    "hidden_dim = 256\n",
    "output_dim = 1\n",
    "\n",
    "# Initialisiere das GRU-Modell\n",
    "model = GRUClassifier(vocab_size, embedding_dim, hidden_dim, output_dim, pad_idx)\n",
    "print(model)"
   ]
  },
  {
   "cell_type": "code",
   "execution_count": 9,
   "metadata": {},
   "outputs": [],
   "source": [
    "def train_model(model:GRUClassifier, train_loader:DataLoader, val_loader:DataLoader, epochs:int, lr=0.001, device=torch.device(\"cpu\")):\n",
    "    # Loss und Optimizer definieren\n",
    "    criterion = nn.BCEWithLogitsLoss()\n",
    "    optimizer = optim.Adam(model.parameters(), lr=lr)\n",
    "\n",
    "    model.to(device)\n",
    "\n",
    "    print(f\"Start training on device '{device}'\")\n",
    "\n",
    "    # Listen für Visualisierung\n",
    "    train_losses, val_losses = [], []\n",
    "    train_accuracies, val_accuracies = [], []\n",
    "\n",
    "    # Training und Validation Loop\n",
    "    for epoch in range(epochs):\n",
    "        model.train()  # Setze das Modell in den Training-Modus\n",
    "        running_loss = 0.0\n",
    "        train_labels = []\n",
    "        train_preds = []\n",
    "\n",
    "        train_progress = tqdm(train_loader, desc=f\"Epoch [{epoch+1}/{epochs}]\", ncols=100)\n",
    "\n",
    "        epoch_start_time = time.time()  # Startzeit für die Epoche\n",
    "\n",
    "        # Trainingsloop\n",
    "        for batch in train_progress:\n",
    "            tokens, labels = batch\n",
    "            tokens, labels = tokens.to(device), labels.to(device)\n",
    "\n",
    "            # Forward Pass\n",
    "            optimizer.zero_grad()\n",
    "            outputs = model(tokens)\n",
    "            loss = criterion(outputs.squeeze(), labels)\n",
    "\n",
    "            # Backward Pass und Optimierung\n",
    "            loss.backward()\n",
    "            optimizer.step()\n",
    "\n",
    "            running_loss += loss.item()\n",
    "\n",
    "            # Berechne Vorhersagen und füge sie zur Liste hinzu\n",
    "            train_preds += (outputs.squeeze() > 0.5).cpu().numpy().tolist()\n",
    "            train_labels += labels.cpu().numpy().tolist()\n",
    "\n",
    "            # Update TQDM mit dem aktuellen Loss\n",
    "            train_progress.set_postfix(loss=f\"{running_loss / (train_progress.n + 1):.3f}\")\n",
    "\n",
    "        # Berechne Training Accuracy\n",
    "        train_accuracy = accuracy_score(train_labels, train_preds)\n",
    "        train_losses.append(running_loss / len(train_loader))\n",
    "        train_accuracies.append(train_accuracy)\n",
    "        \n",
    "        # Validierung\n",
    "        model.eval()  # Setze das Modell in den Eval-Modus\n",
    "        val_loss = 0.0\n",
    "        val_labels = []\n",
    "        val_preds = []\n",
    "\n",
    "        with torch.no_grad():\n",
    "            for batch in val_loader:\n",
    "                tokens, labels = batch\n",
    "                tokens, labels = tokens.to(device), labels.to(device)\n",
    "\n",
    "                outputs = model(tokens)\n",
    "                loss = criterion(outputs.squeeze(), labels)\n",
    "                val_loss += loss.item()\n",
    "\n",
    "                val_preds += (outputs.squeeze() > 0.5).cpu().numpy().tolist()\n",
    "                val_labels += labels.cpu().numpy().tolist()\n",
    "\n",
    "        # Berechne Validierungs-Accuracy\n",
    "        val_accuracy = accuracy_score(val_labels, val_preds)\n",
    "        val_losses.append(val_loss / len(val_loader))\n",
    "        val_accuracies.append(val_accuracy)\n",
    "\n",
    "        epoch_end_time = time.time()\n",
    "        epoch_duration = epoch_end_time - epoch_start_time\n",
    "        mins, secs = divmod(epoch_duration, 60)\n",
    "        \n",
    "        # Ausgabe der Fortschritte mit TQDM\n",
    "        print(f\"Epoch [{epoch+1}/{epochs}], \"\n",
    "              f\"Train Loss: {running_loss/len(train_loader):.4f}, \"\n",
    "              f\"Train Accuracy: {train_accuracy:.4f}, \"\n",
    "              f\"Validation Loss: {val_loss/len(val_loader):.4f}, \"\n",
    "              f\"Validation Accuracy: {val_accuracy:.4f}, \"\n",
    "              f\"Time: {mins}m {secs:.2f}s\")\n",
    "    \n",
    "    return model, train_losses, val_losses, train_accuracies, val_accuracies"
   ]
  },
  {
   "cell_type": "code",
   "execution_count": 10,
   "metadata": {},
   "outputs": [
    {
     "name": "stdout",
     "output_type": "stream",
     "text": [
      "Start training on device 'cuda'\n"
     ]
    },
    {
     "name": "stderr",
     "output_type": "stream",
     "text": [
      "Epoch [1/5]: 100%|██████████████████████████████████| 1774/1774 [00:22<00:00, 79.87it/s, loss=0.578]\n"
     ]
    },
    {
     "name": "stdout",
     "output_type": "stream",
     "text": [
      "Epoch [1/5], Train Loss: 0.5768, Train Accuracy: 0.7148, Validation Loss: 0.5167, Validation Accuracy: 0.8428, Time: 0.0m 26.54s\n"
     ]
    },
    {
     "name": "stderr",
     "output_type": "stream",
     "text": [
      "Epoch [2/5]: 100%|██████████████████████████████████| 1774/1774 [00:21<00:00, 80.75it/s, loss=0.508]\n"
     ]
    },
    {
     "name": "stdout",
     "output_type": "stream",
     "text": [
      "Epoch [2/5], Train Loss: 0.5071, Train Accuracy: 0.8450, Validation Loss: 0.4990, Validation Accuracy: 0.8731, Time: 0.0m 26.35s\n"
     ]
    },
    {
     "name": "stderr",
     "output_type": "stream",
     "text": [
      "Epoch [3/5]: 100%|██████████████████████████████████| 1774/1774 [00:22<00:00, 80.16it/s, loss=0.494]\n"
     ]
    },
    {
     "name": "stdout",
     "output_type": "stream",
     "text": [
      "Epoch [3/5], Train Loss: 0.4935, Train Accuracy: 0.8746, Validation Loss: 0.4921, Validation Accuracy: 0.8652, Time: 0.0m 26.50s\n"
     ]
    },
    {
     "name": "stderr",
     "output_type": "stream",
     "text": [
      "Epoch [4/5]: 100%|██████████████████████████████████| 1774/1774 [00:22<00:00, 80.47it/s, loss=0.491]\n"
     ]
    },
    {
     "name": "stdout",
     "output_type": "stream",
     "text": [
      "Epoch [4/5], Train Loss: 0.4901, Train Accuracy: 0.8804, Validation Loss: 0.5026, Validation Accuracy: 0.8378, Time: 0.0m 26.51s\n"
     ]
    },
    {
     "name": "stderr",
     "output_type": "stream",
     "text": [
      "Epoch [5/5]: 100%|██████████████████████████████████| 1774/1774 [00:22<00:00, 80.24it/s, loss=0.484]\n"
     ]
    },
    {
     "name": "stdout",
     "output_type": "stream",
     "text": [
      "Epoch [5/5], Train Loss: 0.4833, Train Accuracy: 0.8958, Validation Loss: 0.4981, Validation Accuracy: 0.8440, Time: 0.0m 26.50s\n"
     ]
    }
   ],
   "source": [
    "# Trainiere das Modell\n",
    "epochs = 5\n",
    "trained_model, train_losses, val_losses, train_accuracies, val_accuracies = train_model(model, train_loader, val_loader, epochs=epochs, lr=0.001, device=device)"
   ]
  },
  {
   "cell_type": "code",
   "execution_count": 11,
   "metadata": {},
   "outputs": [
    {
     "data": {
      "image/png": "[encoded data removed]",
      "text/plain": [
       "<Figure size 1200x600 with 2 Axes>"
      ]
     },
     "metadata": {},
     "output_type": "display_data"
    }
   ],
   "source": [
    "def plot_results(train_losses, val_losses, train_accuracies, val_accuracies):\n",
    "    # Loss Plot\n",
    "    plt.figure(figsize=(12, 6))\n",
    "    plt.subplot(1, 2, 1)\n",
    "    plt.plot(train_losses, label='Train Loss')\n",
    "    plt.plot(val_losses, label='Validation Loss')\n",
    "    plt.xlabel('Epochs')\n",
    "    plt.ylabel('Loss')\n",
    "    plt.title('Loss Over Epochs')\n",
    "    plt.legend()\n",
    "\n",
    "    # Accuracy Plot\n",
    "    plt.subplot(1, 2, 2)\n",
    "    plt.plot(train_accuracies, label='Train Accuracy')\n",
    "    plt.plot(val_accuracies, label='Validation Accuracy')\n",
    "    plt.xlabel('Epochs')\n",
    "    plt.ylabel('Accuracy')\n",
    "    plt.title('Accuracy Over Epochs')\n",
    "    plt.legend()\n",
    "\n",
    "    # Anzeigen\n",
    "    plt.tight_layout()\n",
    "    plt.show()\n",
    "\n",
    "plot_results(train_losses, val_losses, train_accuracies, val_accuracies)"
   ]
  },
  {
   "cell_type": "code",
   "execution_count": 12,
   "metadata": {},
   "outputs": [
    {
     "name": "stdout",
     "output_type": "stream",
     "text": [
      "Test Loss: 0.4967\n",
      "Test Accuracy: 0.8486\n",
      "Test Precision: 0.9602\n",
      "Test Recall: 0.8117\n",
      "Test F1-Score: 0.8797\n"
     ]
    }
   ],
   "source": [
    "# Funktion zum Testen des Modells mit zusätzlichen Metriken\n",
    "def evaluate_model(model, test_loader):\n",
    "    model.eval()  # Setze das Modell in den Eval-Modus\n",
    "    test_loss = 0.0\n",
    "    test_labels = []\n",
    "    test_preds = []\n",
    "\n",
    "    criterion = nn.BCEWithLogitsLoss()\n",
    "\n",
    "    with torch.no_grad():  # Keine Gradientenberechnung für Test\n",
    "        for batch in test_loader:\n",
    "            tokens, labels = batch\n",
    "            tokens, labels = tokens.to(device), labels.to(device)\n",
    "\n",
    "            # Forward Pass\n",
    "            outputs = model(tokens)\n",
    "            loss = criterion(outputs.squeeze(), labels)\n",
    "            test_loss += loss.item()\n",
    "\n",
    "            # Berechne Vorhersagen und füge sie zur Liste hinzu\n",
    "            test_preds += (outputs.squeeze() > 0.5).cpu().numpy().tolist()\n",
    "            test_labels += labels.cpu().numpy().tolist()\n",
    "\n",
    "    # Berechne Metriken\n",
    "    test_accuracy = accuracy_score(test_labels, test_preds)\n",
    "    test_precision = precision_score(test_labels, test_preds)\n",
    "    test_recall = recall_score(test_labels, test_preds)\n",
    "    test_f1 = f1_score(test_labels, test_preds)\n",
    "\n",
    "    # Ausgabe der Metriken\n",
    "    print(f\"Test Loss: {test_loss/len(test_loader):.4f}\")\n",
    "    print(f\"Test Accuracy: {test_accuracy:.4f}\")\n",
    "    print(f\"Test Precision: {test_precision:.4f}\")\n",
    "    print(f\"Test Recall: {test_recall:.4f}\")\n",
    "    print(f\"Test F1-Score: {test_f1:.4f}\")\n",
    "\n",
    "# Teste das Modell\n",
    "evaluate_model(model, test_loader)"
   ]
  },
  {
   "cell_type": "markdown",
   "metadata": {},
   "source": [
    "### Results\n",
    "\n",
    "**Hardware Specs:**\n",
    "- CPU: AMD Ryzen 7 3700X 8-Core\n",
    "- GPU: Nvidia GeForce RTX 3060 Ti\n",
    "- RAM: 47GB\n",
    "- OS: Linux Mint 22.1\n",
    "\n",
    "**Trainings Zeiten**\n",
    "\n",
    "| Device | Epochen | LR    | Trainingszeit | Zeit pro Epoche | Acc     | F1      |\n",
    "|--------|---------|-------|---------------|-----------------|---------|---------|\n",
    "| CPU    | 5       | 0.001 | 00:18:24      | 03:41           | ?       | ?       |\n",
    "| Cuda   | 5       | 0.001 | 00:02:13      | 00:27           | 0.8486  | 0.8797  |"
   ]
  },
  {
   "cell_type": "markdown",
   "metadata": {},
   "source": []
  }
 ],
 "metadata": {
  "kernelspec": {
   "display_name": ".venv",
   "language": "python",
   "name": "python3"
  },
  "language_info": {
   "codemirror_mode": {
    "name": "ipython",
    "version": 3
   },
   "file_extension": ".py",
   "mimetype": "text/x-python",
   "name": "python",
   "nbconvert_exporter": "python",
   "pygments_lexer": "ipython3",
   "version": "3.12.3"
  }
 },
 "nbformat": 4,
 "nbformat_minor": 2
}
