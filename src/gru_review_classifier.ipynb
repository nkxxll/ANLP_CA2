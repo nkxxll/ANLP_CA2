{
 "cells": [
  {
   "cell_type": "markdown",
   "metadata": {},
   "source": [
    "# GRU Classifier"
   ]
  },
  {
   "cell_type": "code",
   "execution_count": 2,
   "metadata": {},
   "outputs": [],
   "source": [
    "%load_ext autoreload\n",
    "%autoreload 2"
   ]
  },
  {
   "cell_type": "code",
   "execution_count": 26,
   "metadata": {},
   "outputs": [],
   "source": [
    "import sys\n",
    "import time\n",
    "import random\n",
    "\n",
    "import numpy as np\n",
    "import pandas as pd\n",
    "import torch\n",
    "import torch.nn as nn\n",
    "import torch.optim as optim\n",
    "from torch.utils.data import DataLoader\n",
    "import sentencepiece as spm\n",
    "from sklearn.model_selection import train_test_split\n",
    "from sklearn.metrics import (\n",
    "    accuracy_score,\n",
    "    precision_score,\n",
    "    recall_score,\n",
    "    f1_score,\n",
    "    confusion_matrix,\n",
    ")\n",
    "from tqdm import tqdm\n",
    "import matplotlib.pyplot as plt\n",
    "import seaborn as sns\n",
    "\n",
    "sys.path.append(\"scripts\")\n",
    "from scripts.steam_review_dataset import SteamReviewDataset"
   ]
  },
  {
   "cell_type": "code",
   "execution_count": 4,
   "metadata": {},
   "outputs": [
    {
     "name": "stdout",
     "output_type": "stream",
     "text": [
      "Using cuda device\n"
     ]
    }
   ],
   "source": [
    "device = torch.device(\n",
    "    \"cuda\"\n",
    "    if torch.cuda.is_available()\n",
    "    else \"mps\" if torch.backends.mps.is_available() else \"cpu\"\n",
    ")\n",
    "print(f\"Using {device} device\")"
   ]
  },
  {
   "cell_type": "code",
   "execution_count": 5,
   "metadata": {},
   "outputs": [],
   "source": [
    "seed = 1234\n",
    "\n",
    "random.seed(seed)\n",
    "np.random.seed(seed)\n",
    "torch.manual_seed(seed)\n",
    "torch.cuda.manual_seed_all(seed)\n",
    "torch.backends.cudnn.deterministic = True"
   ]
  },
  {
   "cell_type": "code",
   "execution_count": 6,
   "metadata": {},
   "outputs": [
    {
     "name": "stdout",
     "output_type": "stream",
     "text": [
      "Original size: 94079\n",
      "Train size: 56447\n",
      "Validation size: 18816\n",
      "Test size: 18816\n"
     ]
    }
   ],
   "source": [
    "# Lade die Daten\n",
    "df = pd.read_csv(\"../data/reviews_100k_cleaned_new.csv.bz2\")\n",
    "\n",
    "\n",
    "# Aufteilen in Train+Validation und Test (80/20 Split)\n",
    "train_val_df, test_df = train_test_split(\n",
    "    df, test_size=0.2, random_state=42, stratify=df[\"voted_up\"]\n",
    ")\n",
    "\n",
    "# Aufteilen von Train+Validation in Training und Validation (75/25 von Train+Val)\n",
    "train_df, val_df = train_test_split(\n",
    "    train_val_df, test_size=0.25, random_state=42, stratify=train_val_df[\"voted_up\"]\n",
    ")\n",
    "\n",
    "# Überprüfe die Größe der Splits\n",
    "print(f\"Original size: {len(df)}\")\n",
    "print(f\"Train size: {len(train_df)}\")\n",
    "print(f\"Validation size: {len(val_df)}\")\n",
    "print(f\"Test size: {len(test_df)}\")"
   ]
  },
  {
   "cell_type": "code",
   "execution_count": 7,
   "metadata": {},
   "outputs": [
    {
     "name": "stdout",
     "output_type": "stream",
     "text": [
      "Tokens shape: torch.Size([32, 200]), Labels shape: torch.Size([32])\n",
      "(tensor([ 101,  126, 1071,   18,    9,  626, 1013,   25,  574,   24,    4,  820,\n",
      "        2099,   12,   36,    6,  202,  893,    7,   54,  519,  434,  454,  401,\n",
      "         259,  931,  862,   22,   10,   23,   28,  703,   27, 1411,  142,  198,\n",
      "          61,   86, 2311,   32,   62, 1029,  192,    6,   31,  452,    4,  246,\n",
      "         110,   62,  198,  141,  174,  123,  142,  226,  180,  196,  250,   12,\n",
      "        1593,  401, 1648,   32,  216,  625, 2085,  297,  862,   54,  519,  434,\n",
      "          39,   12,    4,  387,   32,   89,   69,   85,   18,   19,  273,    0,\n",
      "           0,    0,    0,    0,    0,    0,    0,    0,    0,    0,    0,    0,\n",
      "           0,    0,    0,    0,    0,    0,    0,    0,    0,    0,    0,    0,\n",
      "           0,    0,    0,    0,    0,    0,    0,    0,    0,    0,    0,    0,\n",
      "           0,    0,    0,    0,    0,    0,    0,    0,    0,    0,    0,    0,\n",
      "           0,    0,    0,    0,    0,    0,    0,    0,    0,    0,    0,    0,\n",
      "           0,    0,    0,    0,    0,    0,    0,    0,    0,    0,    0,    0,\n",
      "           0,    0,    0,    0,    0,    0,    0,    0,    0,    0,    0,    0,\n",
      "           0,    0,    0,    0,    0,    0,    0,    0,    0,    0,    0,    0,\n",
      "           0,    0,    0,    0,    0,    0,    0,    0,    0,    0,    0,    0,\n",
      "           0,    0,    0,    0,    0,    0,    0,    0]), tensor(1.))\n"
     ]
    }
   ],
   "source": [
    "# Erstelle Dataset-Objekte\n",
    "tokenizer = spm.SentencePieceProcessor(model_file=\"../data/reviews_unigram.model\")\n",
    "max_len = 200  # 91% der Reviews haben weniger als 200 Tokens\n",
    "batch_size = 32\n",
    "\n",
    "train_dataset = SteamReviewDataset(data=train_df, tokenizer=tokenizer, max_len=max_len)\n",
    "val_dataset = SteamReviewDataset(data=val_df, tokenizer=tokenizer, max_len=max_len)\n",
    "test_dataset = SteamReviewDataset(data=test_df, tokenizer=tokenizer, max_len=max_len)\n",
    "\n",
    "# Erstelle DataLoader für jeden Split\n",
    "train_loader = DataLoader(train_dataset, batch_size=batch_size, shuffle=True)\n",
    "val_loader = DataLoader(val_dataset, batch_size=batch_size, shuffle=False)\n",
    "test_loader = DataLoader(test_dataset, batch_size=batch_size, shuffle=False)\n",
    "\n",
    "# Batch Shape\n",
    "for tokens, labels in train_loader:\n",
    "    print(f\"Tokens shape: {tokens.shape}, Labels shape: {labels.shape}\")\n",
    "    break\n",
    "\n",
    "print(train_dataset[0])"
   ]
  },
  {
   "cell_type": "code",
   "execution_count": 8,
   "metadata": {},
   "outputs": [],
   "source": [
    "class GRUClassifier(nn.Module):\n",
    "    def __init__(\n",
    "        self,\n",
    "        vocab_size: int,\n",
    "        embedding_dim: int,\n",
    "        gru_layers: int,\n",
    "        hidden_dim: int,\n",
    "        dropout: float,\n",
    "        output_dim: int,\n",
    "        pad_idx: int,\n",
    "    ):\n",
    "        super(GRUClassifier, self).__init__()\n",
    "        self.embedding = nn.Embedding(\n",
    "            num_embeddings=vocab_size, embedding_dim=embedding_dim, padding_idx=pad_idx\n",
    "        )\n",
    "        self.gru = nn.GRU(\n",
    "            input_size=embedding_dim,\n",
    "            num_layers=gru_layers,\n",
    "            hidden_size=hidden_dim,\n",
    "            dropout=dropout if gru_layers > 1 else 0,\n",
    "            batch_first=True,\n",
    "        )\n",
    "        self.fc = nn.Linear(hidden_dim, output_dim)\n",
    "\n",
    "    def forward(self, x):\n",
    "        # x: (batch_size, seq_length)\n",
    "\n",
    "        embedded = self.embedding(x)  # (batch_size, seq_length, embedding_dim)\n",
    "\n",
    "        gru_out, _ = self.gru(embedded)  # (batch_size, seq_length, hidden_dim)\n",
    "\n",
    "        last_hidden_state = gru_out[:, -1, :]  # (batch_size, hidden_dim)\n",
    "\n",
    "        output = self.fc(last_hidden_state)  # (batch_size, output_dim)\n",
    "\n",
    "        return output"
   ]
  },
  {
   "cell_type": "code",
   "execution_count": 9,
   "metadata": {},
   "outputs": [],
   "source": [
    "def train_model(\n",
    "    model: GRUClassifier,\n",
    "    train_loader: DataLoader,\n",
    "    val_loader: DataLoader,\n",
    "    epochs: int,\n",
    "    lr: float,\n",
    "    device=torch.device(\"cpu\"),\n",
    "):\n",
    "    # Loss und Optimizer definieren\n",
    "    criterion = nn.BCEWithLogitsLoss()\n",
    "    optimizer = optim.AdamW(model.parameters(), lr=lr, weight_decay=1e-4, fused=True)\n",
    "    scheduler = optim.lr_scheduler.ReduceLROnPlateau(\n",
    "        optimizer, mode=\"min\", factor=0.1, patience=1\n",
    "    )\n",
    "\n",
    "    model.to(device)\n",
    "\n",
    "    print(f\"Start training on device '{device}'\")\n",
    "\n",
    "    # Early Stopping Parameter\n",
    "    patience = 3\n",
    "    patience_counter = 0\n",
    "    best_val_accuracy = 0.0\n",
    "    best_model_state = None\n",
    "    last_epoch = 0\n",
    "\n",
    "    # Listen für Visualisierung\n",
    "    train_losses, val_losses = [], []\n",
    "    train_accuracies, val_accuracies = [], []\n",
    "\n",
    "    # Training und Validation Loop\n",
    "    for epoch in range(epochs):\n",
    "        model.train()\n",
    "        running_loss = 0.0\n",
    "        train_labels = []\n",
    "        train_preds = []\n",
    "\n",
    "        train_progress = tqdm(\n",
    "            train_loader, desc=f\"Epoch [{epoch+1}/{epochs}]\", ncols=100\n",
    "        )\n",
    "\n",
    "        epoch_start_time = time.time()  # Startzeit für die Epoche\n",
    "\n",
    "        # Trainingsloop\n",
    "        for batch in train_progress:\n",
    "            tokens, labels = batch\n",
    "            tokens, labels = tokens.to(device), labels.to(device)\n",
    "\n",
    "            # Forward Pass\n",
    "            optimizer.zero_grad()\n",
    "            outputs = model(tokens)\n",
    "            loss = criterion(outputs.squeeze(), labels)\n",
    "\n",
    "            # Backward Pass und Optimierung\n",
    "            loss.backward()\n",
    "            nn.utils.clip_grad_norm_(model.parameters(), max_norm=1.0)\n",
    "            optimizer.step()\n",
    "\n",
    "            running_loss += loss.item()\n",
    "\n",
    "            # Berechne Predictions und füge sie zur Liste hinzu\n",
    "            train_preds += (outputs.squeeze() > 0.5).cpu().numpy().tolist()\n",
    "            train_labels += labels.cpu().numpy().tolist()\n",
    "\n",
    "            # Update TQDM mit dem aktuellen Loss\n",
    "            train_progress.set_postfix(\n",
    "                loss=f\"{running_loss / (train_progress.n + 1):.3f}\"\n",
    "            )\n",
    "\n",
    "        # Berechne Trainings-Accuracy\n",
    "        train_accuracy = accuracy_score(train_labels, train_preds)\n",
    "        train_losses.append(running_loss / len(train_loader))\n",
    "        train_accuracies.append(train_accuracy)\n",
    "\n",
    "        # Validierung\n",
    "        model.eval()\n",
    "        val_loss = 0.0\n",
    "        val_labels = []\n",
    "        val_preds = []\n",
    "\n",
    "        with torch.no_grad():\n",
    "            for batch in val_loader:\n",
    "                tokens, labels = batch\n",
    "                tokens, labels = tokens.to(device), labels.to(device)\n",
    "\n",
    "                outputs = model(tokens)\n",
    "                loss = criterion(outputs.squeeze(), labels)\n",
    "                val_loss += loss.item()\n",
    "\n",
    "                val_preds += (outputs.squeeze() > 0.5).cpu().numpy().tolist()\n",
    "                val_labels += labels.cpu().numpy().tolist()\n",
    "\n",
    "        scheduler.step(val_loss)  # Scheduler mit Validierungs-Loss aufrufen\n",
    "\n",
    "        # Berechne Validierungs-Accuracy\n",
    "        val_accuracy = accuracy_score(val_labels, val_preds)\n",
    "        val_losses.append(val_loss / len(val_loader))\n",
    "        val_accuracies.append(val_accuracy)\n",
    "\n",
    "        epoch_end_time = time.time()\n",
    "        epoch_duration = epoch_end_time - epoch_start_time\n",
    "        mins, secs = divmod(epoch_duration, 60)\n",
    "\n",
    "        print(\n",
    "            \"├ \"\n",
    "            f\"Train Loss: {running_loss/len(train_loader):.4f}, \"\n",
    "            f\"Train Accuracy: {train_accuracy:.4f}, \"\n",
    "            f\"Validation Loss: {val_loss/len(val_loader):.4f}, \"\n",
    "            f\"Validation Accuracy: {val_accuracy:.4f}, \"\n",
    "            f\"Time: {int(mins):2}:{secs:.2f}m\"\n",
    "        )\n",
    "\n",
    "        # Early Stopping Überprüfung\n",
    "        if val_accuracy > best_val_accuracy:\n",
    "            print(\n",
    "                f\"└ Validation accuracy improved: {best_val_accuracy:.4f} → {val_accuracy:.4f}\"\n",
    "            )\n",
    "            best_val_accuracy = val_accuracy\n",
    "            patience_counter = 0\n",
    "            best_model_state = model.state_dict()  # Speichere das beste Modell\n",
    "            last_epoch = epoch\n",
    "        else:\n",
    "            patience_counter += 1\n",
    "            print(\n",
    "                f\"└ No improvement in validation accuracy. \"\n",
    "                f\"Patience counter: {patience_counter}/{patience}. Using LR: {scheduler.get_last_lr()[0]:.1e}\",\n",
    "            )\n",
    "            # Überprüfe, ob Early Stopping ausgelöst werden soll\n",
    "            if patience_counter >= patience:\n",
    "                print(\n",
    "                    \"Early stopping triggered! \"\n",
    "                    f\"Best Validation Accuracy: {best_val_accuracy:.2f}, on epoch {last_epoch+1}\"\n",
    "                )\n",
    "                break\n",
    "\n",
    "    # Lade das beste Modell zurück, falls Early Stopping ausgelöst wurde\n",
    "    if best_model_state is not None:\n",
    "        model.load_state_dict(best_model_state)\n",
    "\n",
    "    print(\n",
    "        f\"Finished Training: Best Validation Accuracy: {best_val_accuracy:.2f}, on epoch {last_epoch+1}\"\n",
    "    )\n",
    "\n",
    "    return model, train_losses, val_losses, train_accuracies, val_accuracies, last_epoch"
   ]
  },
  {
   "cell_type": "code",
   "execution_count": 10,
   "metadata": {},
   "outputs": [
    {
     "name": "stdout",
     "output_type": "stream",
     "text": [
      "GRUClassifier(\n",
      "  (embedding): Embedding(4000, 128, padding_idx=0)\n",
      "  (gru): GRU(128, 256, batch_first=True)\n",
      "  (fc): Linear(in_features=256, out_features=1, bias=True)\n",
      ")\n"
     ]
    }
   ],
   "source": [
    "# Lade den Tokenizer, um `vocab_size` und `pad_id` zu erhalten\n",
    "tokenizer = spm.SentencePieceProcessor(model_file=\"../data/reviews_unigram.model\")\n",
    "vocab_size = tokenizer.get_piece_size()\n",
    "pad_idx = tokenizer.pad_id()\n",
    "\n",
    "# Modellparameter\n",
    "embedding_dim = 128\n",
    "gru_layers = 1\n",
    "hidden_dim = 256\n",
    "output_dim = 1\n",
    "dropout = 0.5\n",
    "\n",
    "# Initialisiere das GRU-Modell\n",
    "model = GRUClassifier(\n",
    "    vocab_size=vocab_size,\n",
    "    embedding_dim=embedding_dim,\n",
    "    gru_layers=gru_layers,\n",
    "    hidden_dim=hidden_dim,\n",
    "    dropout=dropout,\n",
    "    output_dim=output_dim,\n",
    "    pad_idx=pad_idx,\n",
    ")\n",
    "print(model)"
   ]
  },
  {
   "cell_type": "code",
   "execution_count": null,
   "metadata": {},
   "outputs": [
    {
     "name": "stdout",
     "output_type": "stream",
     "text": [
      "Start training on device 'cuda'\n"
     ]
    },
    {
     "name": "stderr",
     "output_type": "stream",
     "text": [
      "Epoch [1/100]: 100%|████████████████████████████████| 1764/1764 [00:22<00:00, 79.03it/s, loss=0.544]\n"
     ]
    },
    {
     "name": "stdout",
     "output_type": "stream",
     "text": [
      "├ Train Loss: 0.5412, Train Accuracy: 0.7205, Validation Loss: 0.2813, Validation Accuracy: 0.8725, Time:  0:26.48m\n",
      "└ Validation accuracy improved: 0.0000 → 0.8725\n"
     ]
    },
    {
     "name": "stderr",
     "output_type": "stream",
     "text": [
      "Epoch [2/100]: 100%|████████████████████████████████| 1764/1764 [00:21<00:00, 81.25it/s, loss=0.235]\n"
     ]
    },
    {
     "name": "stdout",
     "output_type": "stream",
     "text": [
      "├ Train Loss: 0.2348, Train Accuracy: 0.8998, Validation Loss: 0.2197, Validation Accuracy: 0.9107, Time:  0:26.20m\n",
      "└ Validation accuracy improved: 0.8725 → 0.9107\n"
     ]
    },
    {
     "name": "stderr",
     "output_type": "stream",
     "text": [
      "Epoch [3/100]: 100%|████████████████████████████████| 1764/1764 [00:20<00:00, 84.12it/s, loss=0.169]\n"
     ]
    },
    {
     "name": "stdout",
     "output_type": "stream",
     "text": [
      "├ Train Loss: 0.1686, Train Accuracy: 0.9323, Validation Loss: 0.2150, Validation Accuracy: 0.9137, Time:  0:25.08m\n",
      "└ Validation accuracy improved: 0.9107 → 0.9137\n"
     ]
    },
    {
     "name": "stderr",
     "output_type": "stream",
     "text": [
      "Epoch [4/100]: 100%|████████████████████████████████| 1764/1764 [00:21<00:00, 80.47it/s, loss=0.111]\n"
     ]
    },
    {
     "name": "stdout",
     "output_type": "stream",
     "text": [
      "├ Train Loss: 0.1112, Train Accuracy: 0.9561, Validation Loss: 0.2426, Validation Accuracy: 0.9124, Time:  0:26.28m\n",
      "└ No improvement in validation accuracy. Patience counter: 1/3. Using LR: 1.0e-03\n"
     ]
    },
    {
     "name": "stderr",
     "output_type": "stream",
     "text": [
      "Epoch [5/100]: 100%|████████████████████████████████| 1764/1764 [00:21<00:00, 80.84it/s, loss=0.063]\n"
     ]
    },
    {
     "name": "stdout",
     "output_type": "stream",
     "text": [
      "├ Train Loss: 0.0625, Train Accuracy: 0.9773, Validation Loss: 0.3122, Validation Accuracy: 0.9070, Time:  0:26.15m\n",
      "└ No improvement in validation accuracy. Patience counter: 2/3. Using LR: 1.0e-04\n"
     ]
    },
    {
     "name": "stderr",
     "output_type": "stream",
     "text": [
      "Epoch [6/100]: 100%|████████████████████████████████| 1764/1764 [00:21<00:00, 81.70it/s, loss=0.024]\n"
     ]
    },
    {
     "name": "stdout",
     "output_type": "stream",
     "text": [
      "├ Train Loss: 0.0239, Train Accuracy: 0.9926, Validation Loss: 0.3709, Validation Accuracy: 0.9128, Time:  0:26.00m\n",
      "└ No improvement in validation accuracy. Patience counter: 3/3. Using LR: 1.0e-04\n",
      "Early stopping triggered! Best Validation Accuracy: 0.91, on epoch 3\n",
      "Finished Training: Best Validation Accuracy: 0.91, on epoch 3\n"
     ]
    }
   ],
   "source": [
    "# Trainiere das Modell\n",
    "epochs = 100\n",
    "lr = 0.001\n",
    "\n",
    "(\n",
    "    trained_model,\n",
    "    train_losses,\n",
    "    val_losses,\n",
    "    train_accuracies,\n",
    "    val_accuracies,\n",
    "    last_epoch,\n",
    ") = train_model(\n",
    "    model=model,\n",
    "    train_loader=train_loader,\n",
    "    val_loader=val_loader,\n",
    "    epochs=epochs,\n",
    "    lr=lr,\n",
    "    device=device,\n",
    ")\n",
    "\n",
    "# alterniiv: Model laden\n",
    "# model.load_state_dict(torch.load(\"../models/gru_classifier.pth\"))"
   ]
  },
  {
   "cell_type": "code",
   "execution_count": 25,
   "metadata": {},
   "outputs": [
    {
     "data": {
      "image/png": "[encoded data removed]",
      "text/plain": [
       "<Figure size 1200x600 with 2 Axes>"
      ]
     },
     "metadata": {},
     "output_type": "display_data"
    }
   ],
   "source": [
    "def plot_results(\n",
    "    train_losses, val_losses, train_accuracies, val_accuracies, last_epoch\n",
    "):\n",
    "\n",
    "    epochs = range(1, len(train_losses) + 1)\n",
    "\n",
    "    # Loss Plot\n",
    "    plt.figure(figsize=(12, 6))\n",
    "    plt.subplot(1, 2, 1)\n",
    "    plt.plot(epochs, train_losses, label=\"Train Loss\")\n",
    "    plt.plot(epochs, val_losses, label=\"Validation Loss\")\n",
    "    plt.axvline(\n",
    "        x=last_epoch + 1,\n",
    "        color=\"r\",\n",
    "        linestyle=\"--\",\n",
    "        label=f\"Best Epoch\",\n",
    "        alpha=0.7,\n",
    "    )\n",
    "    plt.xticks(range(1, len(epochs) + 1))\n",
    "    plt.xlabel(\"Epochs\")\n",
    "    plt.ylabel(\"Loss\")\n",
    "    plt.title(\"Loss Over Epochs\")\n",
    "    plt.legend()\n",
    "\n",
    "    # Accuracy Plot\n",
    "    plt.subplot(1, 2, 2)\n",
    "    plt.plot(epochs, train_accuracies, label=\"Train Accuracy\")\n",
    "    plt.plot(epochs, val_accuracies, label=\"Validation Accuracy\")\n",
    "    plt.axvline(\n",
    "        x=last_epoch + 1,\n",
    "        color=\"r\",\n",
    "        linestyle=\"--\",\n",
    "        label=f\"Best Epoch\",\n",
    "        alpha=0.7,\n",
    "    )\n",
    "    plt.xticks(range(1, len(epochs) + 1))\n",
    "    plt.xlabel(\"Epochs\")\n",
    "    plt.ylabel(\"Accuracy\")\n",
    "    plt.title(\"Accuracy Over Epochs\")\n",
    "    plt.legend()\n",
    "\n",
    "    # Anzeigen\n",
    "    plt.tight_layout()\n",
    "    plt.show()\n",
    "\n",
    "\n",
    "plot_results(train_losses, val_losses, train_accuracies, val_accuracies, last_epoch)"
   ]
  },
  {
   "cell_type": "code",
   "execution_count": 13,
   "metadata": {},
   "outputs": [
    {
     "name": "stdout",
     "output_type": "stream",
     "text": [
      "Test Loss: 0.3831\n",
      "Test Accuracy: 0.9075\n",
      "Test Precision: 0.9380\n",
      "Test Recall: 0.9254\n",
      "Test F1-Score: 0.9317\n"
     ]
    }
   ],
   "source": [
    "# Funktion zum Testen des Modells mit zusätzlichen Metriken\n",
    "def evaluate_model(model, test_loader):\n",
    "    model.eval()  # Setze das Modell in den Eval-Modus\n",
    "    test_loss = 0.0\n",
    "    test_labels = []\n",
    "    test_preds = []\n",
    "\n",
    "    criterion = nn.BCEWithLogitsLoss()\n",
    "\n",
    "    with torch.no_grad():  # Keine Gradientenberechnung für Test\n",
    "        for batch in test_loader:\n",
    "            tokens, labels = batch\n",
    "            tokens, labels = tokens.to(device), labels.to(device)\n",
    "\n",
    "            # Forward Pass\n",
    "            outputs = model(tokens)\n",
    "            loss = criterion(outputs.squeeze(), labels)\n",
    "            test_loss += loss.item()\n",
    "\n",
    "            # Berechne Vorhersagen und füge sie zur Liste hinzu\n",
    "            test_preds += (outputs.squeeze() > 0.5).cpu().numpy().tolist()\n",
    "            test_labels += labels.cpu().numpy().tolist()\n",
    "\n",
    "    # Berechne Metriken\n",
    "    test_accuracy = accuracy_score(test_labels, test_preds)\n",
    "    test_precision = precision_score(test_labels, test_preds)\n",
    "    test_recall = recall_score(test_labels, test_preds)\n",
    "    test_f1 = f1_score(test_labels, test_preds)\n",
    "\n",
    "    # Ausgabe der Metriken\n",
    "    print(f\"Test Loss: {test_loss/len(test_loader):.4f}\")\n",
    "    print(f\"Test Accuracy: {test_accuracy:.4f}\")\n",
    "    print(f\"Test Precision: {test_precision:.4f}\")\n",
    "    print(f\"Test Recall: {test_recall:.4f}\")\n",
    "    print(f\"Test F1-Score: {test_f1:.4f}\")\n",
    "\n",
    "    return test_labels, test_preds\n",
    "\n",
    "\n",
    "# Teste das Modell\n",
    "test_labels, test_preds = evaluate_model(trained_model, test_loader)"
   ]
  },
  {
   "cell_type": "code",
   "execution_count": 14,
   "metadata": {},
   "outputs": [
    {
     "data": {
      "image/png": "[encoded data removed]",
      "text/plain": [
       "<Figure size 600x500 with 1 Axes>"
      ]
     },
     "metadata": {},
     "output_type": "display_data"
    }
   ],
   "source": [
    "def plot_confusion_matrix(y_true, y_pred):\n",
    "\n",
    "    plt.figure(figsize=(6, 5))\n",
    "    sns.heatmap(\n",
    "        confusion_matrix(y_true, y_pred),\n",
    "        annot=True,\n",
    "        fmt=\"d\",\n",
    "        cmap=\"Blues\",\n",
    "        cbar=False,\n",
    "        xticklabels=[\"Negative\", \"Positive\"],\n",
    "        yticklabels=[\"Negative\", \"Positive\"],\n",
    "    )\n",
    "    plt.title(\"Confusion Matrix\")\n",
    "    plt.xlabel(\"Predicted\")\n",
    "    plt.ylabel(\"True\")\n",
    "    plt.show()\n",
    "\n",
    "\n",
    "plot_confusion_matrix(test_labels, test_preds)"
   ]
  },
  {
   "cell_type": "code",
   "execution_count": 18,
   "metadata": {},
   "outputs": [],
   "source": [
    "# save the model\n",
    "torch.save(trained_model.state_dict(), \"../models/gru_classifier.pth\")"
   ]
  },
  {
   "cell_type": "markdown",
   "metadata": {},
   "source": [
    "### Results\n",
    "\n",
    "**Hardware Specs:**\n",
    "- CPU: AMD Ryzen 7 3700X 8-Core\n",
    "- GPU: Nvidia GeForce RTX 3060 Ti\n",
    "- RAM: 48GB\n",
    "- OS: Linux Mint 22.1\n",
    "\n",
    "**Training Results**\n",
    "\n",
    "| Device | GRULayers | Dropout | EmbeddingDim | HiddenDim | VocabSize |     LR | Epoch | time/Epoch | TestAcc    | TestF1     |\n",
    "| ------ | --------: | ------: | -----------: | --------: | --------: | -----: | ----: | ---------- | ---------- | ---------- |\n",
    "| CPU    |         1 |       0 |          128 |       256 |     8.000 |  0.001 |     5 | 03:41      | ?          | ?          |\n",
    "| Cuda   |         1 |       0 |          128 |       128 |     4.000 |  0.001 |     5 | 00:20      | 0.9096     | 0.9337     |\n",
    "| Cuda   |         1 |       0 |          128 |       256 |     4.000 |  0.001 |     3 | 00:28      | **0.9110** | **0.9347** |\n",
    "| Cuda   |         1 |       0 |          128 |       256 |     8.000 |  0.001 |    13 | 00:28      | 0.9019     | 0.9273     |\n",
    "| Cuda   |         1 |       0 |          128 |       512 |     4.000 |  0.001 |    12 | 00:37      | 0.9013     | 0.9271     |\n",
    "| Cuda   |         1 |       0 |          256 |       256 |     8.000 |  0.001 |    10 | 00:28      | 0.9051     | 0.9296     |\n",
    "| Cuda   |         1 |       0 |          512 |       256 |     4.000 |  0.001 |    10 | 00:29      | 0.8897     | 0.9175     |\n",
    "| Cuda   |         1 |       0 |          512 |       256 |    17.000 |  0.001 |     5 | 00:29      | 0.8781     | 0.9063     |\n",
    "| Cuda   |         1 |       0 |          512 |       256 |    17.000 | 0.0001 |     5 | 00:29      | 0.8929     | 0.9190     |\n",
    "| Cuda   |         1 |       0 |          512 |      1024 |     4.000 |  0.001 |     8 | 01:17      | 0.9022     | 0.9275     |\n",
    "| Cuda   |         2 |     0.3 |          128 |       256 |     4.000 |  0.001 |     9 | 00:37      | 0.8875     | 0.9151     |\n",
    "| Cuda   |         2 |     0.3 |          128 |       512 |     4.000 |  0.001 |     9 | 00:55      | 0.8915     | 0.9210     |\n",
    "| Cuda   |         2 |     0.3 |          256 |       512 |     4.000 |  0.001 |    10 | 00:56      | 0.8992     | 0.9260     |\n",
    "| Cuda   |         2 |     0.5 |          256 |      1024 |     4.000 |  0.001 |     4 | 02:13      | 0.8542     | 0.8855     |\n",
    "| Cuda   |         2 |     0.5 |          512 |      1024 |     4.000 |  0.001 |     7 | 02:18      | 0.9103     | 0.9340     |"
   ]
  }
 ],
 "metadata": {
  "kernelspec": {
   "display_name": ".venv",
   "language": "python",
   "name": "python3"
  },
  "language_info": {
   "codemirror_mode": {
    "name": "ipython",
    "version": 3
   },
   "file_extension": ".py",
   "mimetype": "text/x-python",
   "name": "python",
   "nbconvert_exporter": "python",
   "pygments_lexer": "ipython3",
   "version": "3.12.3"
  }
 },
 "nbformat": 4,
 "nbformat_minor": 2
}
